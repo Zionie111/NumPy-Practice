{
  "cells": [
    {
      "cell_type": "markdown",
      "metadata": {
        "id": "view-in-github",
        "colab_type": "text"
      },
      "source": [
        "<a href=\"https://colab.research.google.com/github/Zionie111/NumPy-Practice/blob/main/numpypractice.ipynb\" target=\"_parent\"><img src=\"https://colab.research.google.com/assets/colab-badge.svg\" alt=\"Open In Colab\"/></a>"
      ]
    },
    {
      "cell_type": "markdown",
      "metadata": {
        "id": "oFL2mzRfxok4"
      },
      "source": [
        "I am using this notebook to learn NumPy and it will be updated regularly.\n",
        "\n",
        "As you will be using this notebook, you will learn and understand fundamental concepts of NumPy"
      ]
    },
    {
      "cell_type": "markdown",
      "metadata": {
        "id": "8VgqYcMeyIGk"
      },
      "source": [
        "#**General Overview**\n",
        "NumPy is a powerful Python library for numerical computing that provides support for large, multi-dimensional arrays and matrices, along with a collection of mathematical functions to operate on these elements.\n",
        "\n",
        "**Arrays**\n",
        "\n",
        "1. An array is a collection of elements of the same type, organized in a grid or list.\n",
        "2. NumPy arrays are homogeneous, meaning all elements must be of the same data type (e.g., integers, floats).\n",
        "3. Arrays can be one-dimensional, two-dimensional, or multi-dimensional.\n",
        "\n",
        "Arrays are created using np.array()\n",
        "\n",
        "But there are also other methods of creating arrays\n",
        "\n",
        "**Matrices**\n",
        "\n",
        "A matrix is a specific type of two-dimensional array with rows and columns.\n",
        "NumPy provides a numpy.matrix class, but in practice, using 2D arrays is more common for general numerical computing.\n",
        "\n",
        "Another common term in NumPy is **ndarray**\n",
        "\n",
        "**ndarray** (short for \"N-dimensional array\") is a fundamental data structure that represents multi-dimensional arrays of homogeneous data.\n",
        "The ndarray is the primary building block for numerical computations in NumPy, providing a flexible and efficient way to work with large datasets.\n",
        "**ndarray** objects have several attributes, including shape, dtype, and size."
      ]
    },
    {
      "cell_type": "code",
      "execution_count": null,
      "metadata": {
        "id": "FZHOKEPUoq7F"
      },
      "outputs": [],
      "source": [
        "# import numpy\n",
        "import numpy as np"
      ]
    },
    {
      "cell_type": "code",
      "execution_count": null,
      "metadata": {
        "id": "D4kJkIQ8Ow99"
      },
      "outputs": [],
      "source": [
        "# import other libraries\n",
        "import matplotlib.pyplot as plt\n",
        "import pandas as pd"
      ]
    },
    {
      "cell_type": "markdown",
      "metadata": {
        "id": "yncgn5kTuA8-"
      },
      "source": [
        "#**Creation of Arrays**"
      ]
    },
    {
      "cell_type": "code",
      "execution_count": null,
      "metadata": {
        "colab": {
          "base_uri": "https://localhost:8080/"
        },
        "id": "ihAJtTEmroDR",
        "outputId": "6663ecf8-9317-49a5-d456-d52d9d96dc61"
      },
      "outputs": [
        {
          "data": {
            "text/plain": [
              "array([7, 5, 6, 3, 2, 1])"
            ]
          },
          "execution_count": 5,
          "metadata": {},
          "output_type": "execute_result"
        }
      ],
      "source": [
        "# 1D Array\n",
        "np.array([7, 5, 6, 3, 2, 1])"
      ]
    },
    {
      "cell_type": "code",
      "execution_count": null,
      "metadata": {
        "id": "vMMDQNukskzY"
      },
      "outputs": [],
      "source": [
        "# 2D array\n",
        "b = np.array([[1, 2, 3, 4], [9, 10, 11, 12]])"
      ]
    },
    {
      "cell_type": "code",
      "execution_count": null,
      "metadata": {
        "colab": {
          "base_uri": "https://localhost:8080/"
        },
        "id": "5qyecMNzsrTp",
        "outputId": "e02602f4-5ada-4af9-87fe-72a82af18f2c"
      },
      "outputs": [
        {
          "data": {
            "text/plain": [
              "array([[ 1,  2,  3,  4],\n",
              "       [ 9, 10, 11, 12]])"
            ]
          },
          "execution_count": 12,
          "metadata": {},
          "output_type": "execute_result"
        }
      ],
      "source": [
        "b"
      ]
    },
    {
      "cell_type": "code",
      "execution_count": null,
      "metadata": {
        "colab": {
          "base_uri": "https://localhost:8080/"
        },
        "id": "9vBPYpunv9M7",
        "outputId": "1b5d979d-608b-4785-8b80-04a34b1141b9"
      },
      "outputs": [
        {
          "data": {
            "text/plain": [
              "array([[ 1,  2,  3,  4],\n",
              "       [ 3,  5,  4,  8],\n",
              "       [ 9, 10, 11, 12]])"
            ]
          },
          "execution_count": 14,
          "metadata": {},
          "output_type": "execute_result"
        }
      ],
      "source": [
        "# 3D Array\n",
        "np.array([[1, 2, 3, 4],[3,5,4,8], [9, 10, 11, 12]])"
      ]
    },
    {
      "cell_type": "code",
      "execution_count": null,
      "metadata": {
        "colab": {
          "base_uri": "https://localhost:8080/"
        },
        "id": "A69JSBPwKVqS",
        "outputId": "1fdc55bf-369b-4fa9-de36-c4f28479d7f7"
      },
      "outputs": [
        {
          "data": {
            "text/plain": [
              "array([[[ 1,  2,  3],\n",
              "        [ 4,  5,  6]],\n",
              "\n",
              "       [[ 7,  8,  9],\n",
              "        [10, 11, 12]],\n",
              "\n",
              "       [[13, 14, 15],\n",
              "        [16, 17, 18]],\n",
              "\n",
              "       [[19, 20, 21],\n",
              "        [22, 23, 24]]])"
            ]
          },
          "execution_count": 13,
          "metadata": {},
          "output_type": "execute_result"
        }
      ],
      "source": [
        "# Another 3D array\n",
        "np.array([\n",
        "    [[1, 2, 3], [4, 5, 6]],\n",
        "    [[7, 8, 9], [10, 11, 12]],\n",
        "    [[13, 14, 15], [16, 17, 18]],\n",
        "    [[19, 20, 21], [22, 23, 24]],\n",
        "])"
      ]
    },
    {
      "cell_type": "markdown",
      "metadata": {
        "id": "NR8msShYKqUh"
      },
      "source": [
        "Arrays can also be created from a sequence of elements"
      ]
    },
    {
      "cell_type": "code",
      "execution_count": null,
      "metadata": {
        "colab": {
          "base_uri": "https://localhost:8080/"
        },
        "id": "3aOgvgZayvB5",
        "outputId": "1af583c2-b35d-44f9-b8be-28720b1c15c2"
      },
      "outputs": [
        {
          "data": {
            "text/plain": [
              "array([0., 0., 0., 0., 0., 0., 0.])"
            ]
          },
          "execution_count": 24,
          "metadata": {},
          "output_type": "execute_result"
        }
      ],
      "source": [
        "# create an array of zeros\n",
        "np.zeros(7)"
      ]
    },
    {
      "cell_type": "code",
      "source": [
        "# Create another array of zeros\n",
        "np.zeros((3, 2, 4))"
      ],
      "metadata": {
        "colab": {
          "base_uri": "https://localhost:8080/"
        },
        "id": "FE-Xwl0VwxSl",
        "outputId": "8442b96c-18d6-40e1-80c0-70c2722ee23f"
      },
      "execution_count": null,
      "outputs": [
        {
          "output_type": "execute_result",
          "data": {
            "text/plain": [
              "array([[[0., 0., 0., 0.],\n",
              "        [0., 0., 0., 0.]],\n",
              "\n",
              "       [[0., 0., 0., 0.],\n",
              "        [0., 0., 0., 0.]],\n",
              "\n",
              "       [[0., 0., 0., 0.],\n",
              "        [0., 0., 0., 0.]]])"
            ]
          },
          "metadata": {},
          "execution_count": 128
        }
      ]
    },
    {
      "cell_type": "code",
      "execution_count": null,
      "metadata": {
        "colab": {
          "base_uri": "https://localhost:8080/"
        },
        "id": "XrBmeZQjz9-F",
        "outputId": "1b8a7e71-9772-4d9a-e962-b6f5e2ed932e"
      },
      "outputs": [
        {
          "data": {
            "text/plain": [
              "array([1, 1, 1, 1, 1, 1, 1])"
            ]
          },
          "execution_count": 31,
          "metadata": {},
          "output_type": "execute_result"
        }
      ],
      "source": [
        "# Create an Array of Ones with a specific data type\n",
        "np.ones(7,dtype=np.int64)"
      ]
    },
    {
      "cell_type": "code",
      "execution_count": null,
      "metadata": {
        "colab": {
          "base_uri": "https://localhost:8080/"
        },
        "id": "tslXngqj0Mf2",
        "outputId": "f7d453dd-fa42-4f00-9944-9d8aaebbbeba"
      },
      "outputs": [
        {
          "data": {
            "text/plain": [
              "array([-2.00000000e+000,  6.76310447e-310])"
            ]
          },
          "execution_count": 27,
          "metadata": {},
          "output_type": "execute_result"
        }
      ],
      "source": [
        "# Create an empty array with 2 elements.\n",
        "np.empty(2)"
      ]
    },
    {
      "cell_type": "code",
      "execution_count": null,
      "metadata": {
        "colab": {
          "base_uri": "https://localhost:8080/"
        },
        "id": "hATfWouC0pd9",
        "outputId": "224a8866-095a-4ab5-e7fd-92802bba313b"
      },
      "outputs": [
        {
          "data": {
            "text/plain": [
              "array([ 7,  9, 11, 13, 15, 17, 19], dtype=int32)"
            ]
          },
          "execution_count": 32,
          "metadata": {},
          "output_type": "execute_result"
        }
      ],
      "source": [
        "# Create an array from a range\n",
        "np.arange(7,20,2,dtype=np.int32)"
      ]
    },
    {
      "cell_type": "code",
      "execution_count": null,
      "metadata": {
        "colab": {
          "base_uri": "https://localhost:8080/"
        },
        "id": "CMno2Z1oIWq9",
        "outputId": "c8292ef6-c0eb-49b1-b7db-d3b558bffb88"
      },
      "outputs": [
        {
          "data": {
            "text/plain": [
              "array([0.  , 0.25, 0.5 , 0.75, 1.  ])"
            ]
          },
          "execution_count": 6,
          "metadata": {},
          "output_type": "execute_result"
        }
      ],
      "source": [
        "# Create an array of evenly spaced values\n",
        "np.linspace(0, 1, 5)"
      ]
    },
    {
      "cell_type": "code",
      "execution_count": null,
      "metadata": {
        "colab": {
          "base_uri": "https://localhost:8080/"
        },
        "id": "vQe-211jIpb-",
        "outputId": "82e3ccbb-dd62-4f5d-effe-6dfd3aba15eb"
      },
      "outputs": [
        {
          "data": {
            "text/plain": [
              "array([[0.48361044, 0.09728744, 0.24163095],\n",
              "       [0.11103315, 0.3939135 , 0.76620359]])"
            ]
          },
          "execution_count": 10,
          "metadata": {},
          "output_type": "execute_result"
        }
      ],
      "source": [
        "# Create random arrays\n",
        "# Create an array with uniform distribution between 0 and 1\n",
        "np.random.rand(2, 3)\n"
      ]
    },
    {
      "cell_type": "code",
      "execution_count": null,
      "metadata": {
        "colab": {
          "base_uri": "https://localhost:8080/"
        },
        "id": "Yz92RM0kI7tW",
        "outputId": "447b8261-e8c2-4ef7-c12b-0212edef9569"
      },
      "outputs": [
        {
          "data": {
            "text/plain": [
              "array([[3, 7, 3],\n",
              "       [3, 4, 7]])"
            ]
          },
          "execution_count": 12,
          "metadata": {},
          "output_type": "execute_result"
        }
      ],
      "source": [
        "# Create random arrays\n",
        "# Random integers\n",
        "np.random.randint(1, 10, size=(2, 3))\n"
      ]
    },
    {
      "cell_type": "markdown",
      "metadata": {
        "id": "3z66qqIY5Si8"
      },
      "source": [
        "Numpy provides a wide range of functions and methods to perform various operations and manipulations on arrays.\n",
        "\n",
        "We will now begin looking at these operations"
      ]
    },
    {
      "cell_type": "markdown",
      "metadata": {
        "id": "pfTrSe5S1wpC"
      },
      "source": [
        "#**Sorting elements in Arrays**\n",
        "\n",
        "Sorting elements in arrays is a common operation in programming and data analysis. NumPy provides functions to efficiently sort arrays along specified axes. The commonly used function for sorting is np.sort()"
      ]
    },
    {
      "cell_type": "code",
      "execution_count": null,
      "metadata": {
        "colab": {
          "base_uri": "https://localhost:8080/"
        },
        "id": "x1URln_-_1bR",
        "outputId": "2e7eb0ad-de10-45ea-e210-884cd07183d7"
      },
      "outputs": [
        {
          "data": {
            "text/plain": [
              "array([86, 25, 28, 57, 65, 35, 99, 59, 43, 73])"
            ]
          },
          "execution_count": 6,
          "metadata": {},
          "output_type": "execute_result"
        }
      ],
      "source": [
        "# Create an array of 10 random integers.\n",
        "data = np.random.randint(1,100,10)\n",
        "data"
      ]
    },
    {
      "cell_type": "code",
      "execution_count": null,
      "metadata": {
        "colab": {
          "base_uri": "https://localhost:8080/"
        },
        "id": "08AQmrW22LLx",
        "outputId": "0bbf0421-e869-471f-c949-939f11624607"
      },
      "outputs": [
        {
          "data": {
            "text/plain": [
              "array([25, 28, 35, 43, 57, 59, 65, 73, 86, 99])"
            ]
          },
          "execution_count": 7,
          "metadata": {},
          "output_type": "execute_result"
        }
      ],
      "source": [
        "# Quick sorting\n",
        "np.sort(data)"
      ]
    },
    {
      "cell_type": "markdown",
      "metadata": {
        "id": "vm8Z6ATLBgGj"
      },
      "source": [
        "#**Sorting through the axis.** *In 2D array(matrix)*\n",
        "In 2D arrays(Matrices), there are two axes:\n",
        "\n",
        "1. Axis 0 (rows): The first axis represents the rows of the array. Operations along this axis involve operations that go row-wise.  \n",
        "2.  Axis 1 (columns): The second axis represents the columns of the array. Operations along this axis involve operations that go column-wise.\n",
        "\n",
        "But when sorting using np.sort with axis=0, the sorting is done along Axis 0, which means sorting is column-wise, not row-wise.\n",
        "\n",
        "This can be a source of confusion, and it's essential to keep in mind that the axis parameter in np.sort specifies the axis along which the sorting is performed, and for axis=0, it sorts along columns.\n",
        "\n",
        "And if you want to sort along rows (Axis=1), you would set axis=1 in np.sort\n"
      ]
    },
    {
      "cell_type": "code",
      "execution_count": null,
      "metadata": {
        "colab": {
          "base_uri": "https://localhost:8080/"
        },
        "id": "Kb8hd0eb_out",
        "outputId": "fc023e3b-7348-4f35-ba3d-a0477709cf88"
      },
      "outputs": [
        {
          "data": {
            "text/plain": [
              "[[3, 1, 4], [1, 5, 9], [2, 6, 5]]"
            ]
          },
          "execution_count": 19,
          "metadata": {},
          "output_type": "execute_result"
        }
      ],
      "source": [
        "# Create a 2D array\n",
        "data_2d = ([[3, 1, 4], [1, 5, 9], [2, 6, 5]])\n",
        "data_2d"
      ]
    },
    {
      "cell_type": "code",
      "execution_count": null,
      "metadata": {
        "colab": {
          "base_uri": "https://localhost:8080/"
        },
        "id": "pWKLMo8fCgcb",
        "outputId": "0be8d690-b5f3-45f5-e3c1-33331e973425"
      },
      "outputs": [
        {
          "data": {
            "text/plain": [
              "array([[1, 3, 4],\n",
              "       [1, 5, 9],\n",
              "       [2, 5, 6]])"
            ]
          },
          "execution_count": 22,
          "metadata": {},
          "output_type": "execute_result"
        }
      ],
      "source": [
        "# Sort along the rows\n",
        "np.sort(data_2d, axis=1)"
      ]
    },
    {
      "cell_type": "code",
      "execution_count": null,
      "metadata": {
        "colab": {
          "base_uri": "https://localhost:8080/"
        },
        "id": "t8U8qIedDJ5r",
        "outputId": "5d66434e-6701-433c-8e5f-f3a4300eb9dc"
      },
      "outputs": [
        {
          "data": {
            "text/plain": [
              "array([[1, 1, 4],\n",
              "       [2, 5, 5],\n",
              "       [3, 6, 9]])"
            ]
          },
          "execution_count": 23,
          "metadata": {},
          "output_type": "execute_result"
        }
      ],
      "source": [
        "# Sort along the columns\n",
        "np.sort(data_2d, axis=0)"
      ]
    },
    {
      "cell_type": "markdown",
      "metadata": {
        "id": "hvq-G331FLay"
      },
      "source": [
        "**Sorting Along Axes in Higher-Dimensional Arrays**\n",
        "\n",
        "For higher-dimensional arrays, the number of axes increases accordingly. In a 3D array, you have three axes:\n",
        "\n",
        "1. Axis 0: Operations along this axis move through the depth of the array.\n",
        "2. Axis 1: Operations along this axis move through the rows.\n",
        "3. Axis 2: Operations along this axis move through the columns.\n",
        "\n",
        "when sorting the data:\n",
        "np.sort(arr, axis=0) sorts along Axis 0 (depth-wise for 3D arrays).\n",
        "np.sort(arr, axis=1) sorts along Axis 1 (column-wise for 3D arrays).\n",
        "np.sort(arr, axis=2) sorts along Axis 2 (column-wise for 3D arrays).\n",
        "\n",
        "\n"
      ]
    },
    {
      "cell_type": "code",
      "execution_count": null,
      "metadata": {
        "colab": {
          "base_uri": "https://localhost:8080/"
        },
        "id": "5lUSiJKWFQ8V",
        "outputId": "2b3d7645-2b3b-4415-8de8-0da9670d2496"
      },
      "outputs": [
        {
          "data": {
            "text/plain": [
              "array([[[54, 46, 49],\n",
              "        [50, 60, 96],\n",
              "        [25, 42, 26]],\n",
              "\n",
              "       [[44, 33,  9],\n",
              "        [ 5, 29, 76],\n",
              "        [72, 90, 99]],\n",
              "\n",
              "       [[22, 73, 19],\n",
              "        [ 9, 33, 59],\n",
              "        [59, 56, 71]]])"
            ]
          },
          "execution_count": 13,
          "metadata": {},
          "output_type": "execute_result"
        }
      ],
      "source": [
        "# Create a 3D array\n",
        "data_3d = np.random.randint(1, 100, (3, 3, 3))\n",
        "data_3d"
      ]
    },
    {
      "cell_type": "code",
      "execution_count": null,
      "metadata": {
        "colab": {
          "base_uri": "https://localhost:8080/"
        },
        "id": "A4oGGibUFqo2",
        "outputId": "314eb77e-eec9-4635-9c64-e04705b35428"
      },
      "outputs": [
        {
          "data": {
            "text/plain": [
              "array([[[22, 33,  9],\n",
              "        [ 5, 29, 59],\n",
              "        [25, 42, 26]],\n",
              "\n",
              "       [[44, 46, 19],\n",
              "        [ 9, 33, 76],\n",
              "        [59, 56, 71]],\n",
              "\n",
              "       [[54, 73, 49],\n",
              "        [50, 60, 96],\n",
              "        [72, 90, 99]]])"
            ]
          },
          "execution_count": 14,
          "metadata": {},
          "output_type": "execute_result"
        }
      ],
      "source": [
        "# Sort along the first axis (move through the depth of array)\n",
        "np.sort(data_3d, axis=0)"
      ]
    },
    {
      "cell_type": "code",
      "execution_count": null,
      "metadata": {
        "colab": {
          "base_uri": "https://localhost:8080/"
        },
        "id": "heLZhBBqDJbY",
        "outputId": "0e1d68d8-4a3b-4231-9562-516ecc842cb2"
      },
      "outputs": [
        {
          "data": {
            "text/plain": [
              "array([[[25, 42, 26],\n",
              "        [50, 46, 49],\n",
              "        [54, 60, 96]],\n",
              "\n",
              "       [[ 5, 29,  9],\n",
              "        [44, 33, 76],\n",
              "        [72, 90, 99]],\n",
              "\n",
              "       [[ 9, 33, 19],\n",
              "        [22, 56, 59],\n",
              "        [59, 73, 71]]])"
            ]
          },
          "execution_count": 15,
          "metadata": {},
          "output_type": "execute_result"
        }
      ],
      "source": [
        "# Sorting along the second axis(move through the rows)\n",
        "np.sort(data_3d, axis=1)"
      ]
    },
    {
      "cell_type": "code",
      "execution_count": null,
      "metadata": {
        "colab": {
          "base_uri": "https://localhost:8080/"
        },
        "id": "-A9g-ikcLoLJ",
        "outputId": "0195a8e3-9a88-4faf-a51e-e9d8e4c33087"
      },
      "outputs": [
        {
          "data": {
            "text/plain": [
              "array([[[ 6, 13, 56],\n",
              "        [56, 57, 84],\n",
              "        [19, 55, 87]],\n",
              "\n",
              "       [[ 6,  9, 99],\n",
              "        [ 4,  7, 14],\n",
              "        [26, 81, 81]],\n",
              "\n",
              "       [[ 5, 14, 87],\n",
              "        [69, 90, 94],\n",
              "        [19, 22, 80]]])"
            ]
          },
          "execution_count": 68,
          "metadata": {},
          "output_type": "execute_result"
        }
      ],
      "source": [
        "# Sort along the third axis (move through rows)\n",
        "np.sort(data_3d, axis=2)"
      ]
    },
    {
      "cell_type": "code",
      "execution_count": null,
      "metadata": {
        "colab": {
          "base_uri": "https://localhost:8080/"
        },
        "id": "TjSoqd7vMQ8C",
        "outputId": "5a42c775-6d45-490c-be72-303992398db9"
      },
      "outputs": [
        {
          "data": {
            "text/plain": [
              "True"
            ]
          },
          "execution_count": 17,
          "metadata": {},
          "output_type": "execute_result"
        }
      ],
      "source": [
        "# Sort arrays using lexicographical order\n",
        "arr1 = [1, 2, 3]\n",
        "arr2 = [1, 2, 4]\n",
        "\n",
        "# Comparing arrays in lexicographical order\n",
        "result = (arr1 < arr2)\n",
        "\n",
        "result"
      ]
    },
    {
      "cell_type": "markdown",
      "metadata": {
        "id": "Q8tMTbsyKkYf"
      },
      "source": [
        "Sorting in descending order and using uniques to get and sort unique elements"
      ]
    },
    {
      "cell_type": "code",
      "execution_count": null,
      "metadata": {
        "colab": {
          "base_uri": "https://localhost:8080/"
        },
        "id": "y4Ge8ho0GSQ4",
        "outputId": "6f18458e-97ab-4d23-9a75-ccad6e2eff46"
      },
      "outputs": [
        {
          "data": {
            "text/plain": [
              "[[3, 1, 4], [1, 5, 9], [2, 6, 5]]"
            ]
          },
          "execution_count": 27,
          "metadata": {},
          "output_type": "execute_result"
        }
      ],
      "source": [
        "# Create a 2D array\n",
        "data_4d = ([[3, 1, 4], [1, 5, 9], [2, 6, 5]])\n",
        "data_4d"
      ]
    },
    {
      "cell_type": "code",
      "execution_count": null,
      "metadata": {
        "colab": {
          "base_uri": "https://localhost:8080/"
        },
        "id": "Np5Mw2yWKfue",
        "outputId": "cc8eafba-0d53-4c9e-85d2-51bfa7d6c657"
      },
      "outputs": [
        {
          "data": {
            "text/plain": [
              "array([[3, 6, 9],\n",
              "       [2, 5, 5],\n",
              "       [1, 1, 4]])"
            ]
          },
          "execution_count": 28,
          "metadata": {},
          "output_type": "execute_result"
        }
      ],
      "source": [
        "# # Sorting in descending order\n",
        "np.sort(data_4d, axis = 0)[::-1]"
      ]
    },
    {
      "cell_type": "code",
      "execution_count": null,
      "metadata": {
        "colab": {
          "base_uri": "https://localhost:8080/"
        },
        "id": "9oFAnGjlJ-Ou",
        "outputId": "a062c68c-c3b1-4abd-e4bd-bb1ef19a3337"
      },
      "outputs": [
        {
          "data": {
            "text/plain": [
              "array([1, 2, 3, 4, 5, 6, 9])"
            ]
          },
          "execution_count": 29,
          "metadata": {},
          "output_type": "execute_result"
        }
      ],
      "source": [
        "# Using unique to get unique elements (sorted)\n",
        "np.unique(data_4d)"
      ]
    },
    {
      "cell_type": "markdown",
      "metadata": {
        "id": "TWkSihZVqqUo"
      },
      "source": [
        "#**Concatenation**\n",
        "Concatenation is one of ways of manipulating arrays\n",
        "It combines arrays into larger arrays. It takes a tuple or a list of arrays and an axis argument. axis=0 for rows and axis=1 for columns"
      ]
    },
    {
      "cell_type": "code",
      "execution_count": null,
      "metadata": {
        "id": "87VefWjhuQMC"
      },
      "outputs": [],
      "source": [
        "# Create 2 Arrays\n",
        "arr1 = np.array([[2,3,4,5],[6,7,8,9],[10,11,12,13]])\n",
        "arr2 = np.array([[1,2,3,4],[5,6,7,8],[9,10,11,12]])"
      ]
    },
    {
      "cell_type": "code",
      "execution_count": null,
      "metadata": {
        "colab": {
          "base_uri": "https://localhost:8080/"
        },
        "id": "1VxbXfNezd8D",
        "outputId": "2673ef4f-35cc-44c5-abee-3a669a05a4c1"
      },
      "outputs": [
        {
          "data": {
            "text/plain": [
              "array([[ 2,  3,  4,  5],\n",
              "       [ 6,  7,  8,  9],\n",
              "       [10, 11, 12, 13],\n",
              "       [ 1,  2,  3,  4],\n",
              "       [ 5,  6,  7,  8],\n",
              "       [ 9, 10, 11, 12]])"
            ]
          },
          "execution_count": 87,
          "metadata": {},
          "output_type": "execute_result"
        }
      ],
      "source": [
        "# Simple Concatenation of arr1 and arr2\n",
        "np.concatenate([arr1,arr2])"
      ]
    },
    {
      "cell_type": "code",
      "execution_count": null,
      "metadata": {
        "colab": {
          "base_uri": "https://localhost:8080/"
        },
        "id": "YH2CZtEaxv41",
        "outputId": "ca374915-266b-446c-e3e0-0c1e40d9b374"
      },
      "outputs": [
        {
          "data": {
            "text/plain": [
              "array([[ 2,  3,  4,  5,  1,  2,  3,  4],\n",
              "       [ 6,  7,  8,  9,  5,  6,  7,  8],\n",
              "       [10, 11, 12, 13,  9, 10, 11, 12]])"
            ]
          },
          "execution_count": 76,
          "metadata": {},
          "output_type": "execute_result"
        }
      ],
      "source": [
        "#  Concatenate vertically (stack rows)\n",
        "np.concatenate((arr1,arr2), axis=1)"
      ]
    },
    {
      "cell_type": "code",
      "execution_count": null,
      "metadata": {
        "colab": {
          "base_uri": "https://localhost:8080/"
        },
        "id": "tJyNblNXyaF_",
        "outputId": "1e1bca44-b233-4513-ca1d-ac399d762f0f"
      },
      "outputs": [
        {
          "data": {
            "text/plain": [
              "array([[ 2,  3,  4,  5],\n",
              "       [ 6,  7,  8,  9],\n",
              "       [10, 11, 12, 13],\n",
              "       [ 1,  2,  3,  4],\n",
              "       [ 5,  6,  7,  8],\n",
              "       [ 9, 10, 11, 12]])"
            ]
          },
          "execution_count": 77,
          "metadata": {},
          "output_type": "execute_result"
        }
      ],
      "source": [
        "# Concatenate horizontally (append columns)\n",
        "np.concatenate((arr1,arr2), axis=0)"
      ]
    },
    {
      "cell_type": "code",
      "execution_count": null,
      "metadata": {
        "colab": {
          "base_uri": "https://localhost:8080/"
        },
        "id": "1qF64dQ4yfgi",
        "outputId": "b0724caa-0110-4235-cc7e-12deb77629db"
      },
      "outputs": [
        {
          "data": {
            "text/plain": [
              "array([[[ 2,  3,  4,  5],\n",
              "        [ 6,  7,  8,  9],\n",
              "        [10, 11, 12, 13]],\n",
              "\n",
              "       [[ 1,  2,  3,  4],\n",
              "        [ 5,  6,  7,  8],\n",
              "        [ 9, 10, 11, 12]]])"
            ]
          },
          "execution_count": 81,
          "metadata": {},
          "output_type": "execute_result"
        }
      ],
      "source": [
        "# Concatenate arr1 and arr2 with and Extra Dimension\n",
        "np.concatenate([[arr1,arr2]])"
      ]
    },
    {
      "cell_type": "markdown",
      "metadata": {
        "id": "-BKkau8x3-ds"
      },
      "source": [
        "**Shape and Size of Array**\n",
        "It is important to know the shape and size of your array especially when working with larger datasets.\n",
        "\n",
        "1. The shape of an array indicates its dimensions, helping you understand the structure of the data. This information is essential for performing operations such as reshaping, transposing, or concatenating arrays.\n",
        "2. The size of an array tells you the total number of elements it contains. This information is vital for memory management, especially when dealing with large datasets. It helps you estimate the amount of memory required to store the array.\n",
        "\n",
        "\n",
        "\n"
      ]
    },
    {
      "cell_type": "code",
      "execution_count": null,
      "metadata": {
        "colab": {
          "base_uri": "https://localhost:8080/"
        },
        "id": "0H9fVXL3392N",
        "outputId": "35a1b071-c762-4416-d88c-f27de1ef8296"
      },
      "outputs": [
        {
          "data": {
            "text/plain": [
              "array([[[83, 92, 49, 48, 36],\n",
              "        [14, 67, 65, 30, 57],\n",
              "        [58, 28, 85, 41, 58],\n",
              "        [23, 94, 60, 32, 84],\n",
              "        [18, 48, 64, 53, 11],\n",
              "        [62, 95, 11, 98, 96]],\n",
              "\n",
              "       [[14, 45, 34, 63, 73],\n",
              "        [63, 81, 50, 11, 49],\n",
              "        [27, 10, 19, 69, 31],\n",
              "        [ 5, 25, 64, 66, 44],\n",
              "        [95, 41, 65, 24, 12],\n",
              "        [94, 91, 80, 24, 44]],\n",
              "\n",
              "       [[44, 55, 98, 69, 11],\n",
              "        [60, 78, 95, 83, 58],\n",
              "        [42, 52, 52, 96, 85],\n",
              "        [40, 62, 94, 28,  7],\n",
              "        [66, 72, 89, 44, 10],\n",
              "        [96,  3, 62,  6,  4]],\n",
              "\n",
              "       [[95, 92, 78, 17, 58],\n",
              "        [10,  4, 29, 52, 89],\n",
              "        [18, 42, 41, 95, 99],\n",
              "        [18, 43, 88, 73, 83],\n",
              "        [36, 71, 38, 93, 48],\n",
              "        [59,  2, 48, 86, 47]],\n",
              "\n",
              "       [[94, 29, 69, 60, 88],\n",
              "        [32,  9, 81, 90, 91],\n",
              "        [76, 52, 37, 12, 97],\n",
              "        [14, 45, 15, 28, 97],\n",
              "        [31, 23, 36, 55, 82],\n",
              "        [89, 62, 79, 20,  3]]])"
            ]
          },
          "execution_count": 30,
          "metadata": {},
          "output_type": "execute_result"
        }
      ],
      "source": [
        "# Creating array\n",
        "array_123 = np.random.randint(1,100,(5,6,5))\n",
        "array_123"
      ]
    },
    {
      "cell_type": "code",
      "execution_count": null,
      "metadata": {
        "colab": {
          "base_uri": "https://localhost:8080/"
        },
        "id": "wYp-DtUP4_G9",
        "outputId": "6040ed42-3446-487a-91ac-6b9ed455a022"
      },
      "outputs": [
        {
          "data": {
            "text/plain": [
              "3"
            ]
          },
          "execution_count": 99,
          "metadata": {},
          "output_type": "execute_result"
        }
      ],
      "source": [
        "# Show number of axes or dimensions of the array\n",
        "array_123.ndim"
      ]
    },
    {
      "cell_type": "code",
      "execution_count": null,
      "metadata": {
        "colab": {
          "base_uri": "https://localhost:8080/"
        },
        "id": "VqVT46Qf60LV",
        "outputId": "704f5c74-9820-4429-faf8-29921534e312"
      },
      "outputs": [
        {
          "data": {
            "text/plain": [
              "150"
            ]
          },
          "execution_count": 100,
          "metadata": {},
          "output_type": "execute_result"
        }
      ],
      "source": [
        "# Show total elements of the array\n",
        "array_123.size"
      ]
    },
    {
      "cell_type": "code",
      "execution_count": null,
      "metadata": {
        "colab": {
          "base_uri": "https://localhost:8080/"
        },
        "id": "aUW0_xR-7JLa",
        "outputId": "e7dc4a96-046b-4da3-a307-ea6dc5f16bb7"
      },
      "outputs": [
        {
          "data": {
            "text/plain": [
              "(5, 6, 5)"
            ]
          },
          "execution_count": 101,
          "metadata": {},
          "output_type": "execute_result"
        }
      ],
      "source": [
        "# Show the shape of the axes\n",
        "array_123.shape"
      ]
    },
    {
      "cell_type": "markdown",
      "metadata": {
        "id": "Q_LvrUf_73An"
      },
      "source": [
        "## **Reshaping Arrays**\n",
        "Reshaping arrays is a common operation in NumPy, and it involves changing the shape or dimensions of an existing array.\n",
        "\n",
        "reshaping arrays can be achieved using many methods including:\n",
        "\n",
        "1. Reshape() change the shape of an array while maintaining the order of the elements\n",
        "2. Transporse() swaps the order of columns and rows.\n",
        "3. flatten()  convert a multi-dimensional array into a 1D array"
      ]
    },
    {
      "cell_type": "code",
      "execution_count": null,
      "metadata": {
        "colab": {
          "base_uri": "https://localhost:8080/"
        },
        "id": "GJWBPbVS7Syb",
        "outputId": "0b439a63-34ec-470b-ec38-72fba821d94d"
      },
      "outputs": [
        {
          "data": {
            "text/plain": [
              "array([ 0,  1,  2,  3,  4,  5,  6,  7,  8,  9, 10, 11])"
            ]
          },
          "execution_count": 31,
          "metadata": {},
          "output_type": "execute_result"
        }
      ],
      "source": [
        "# Create an array\n",
        "a= np.arange(12)\n",
        "a"
      ]
    },
    {
      "cell_type": "code",
      "execution_count": null,
      "metadata": {
        "colab": {
          "base_uri": "https://localhost:8080/"
        },
        "id": "2UYhVsI58Btt",
        "outputId": "8c35c433-bd66-4aa2-8d0e-037bdcbe785e"
      },
      "outputs": [
        {
          "data": {
            "text/plain": [
              "array([[ 0,  1,  2,  3],\n",
              "       [ 4,  5,  6,  7],\n",
              "       [ 8,  9, 10, 11]])"
            ]
          },
          "execution_count": 108,
          "metadata": {},
          "output_type": "execute_result"
        }
      ],
      "source": [
        "# Reshape the array\n",
        "a.reshape(3,4)"
      ]
    },
    {
      "cell_type": "code",
      "execution_count": null,
      "metadata": {
        "colab": {
          "base_uri": "https://localhost:8080/"
        },
        "id": "mbgliKj1PWw3",
        "outputId": "531f070d-02e9-4982-c0ff-c9521e91cd0f"
      },
      "outputs": [
        {
          "data": {
            "text/plain": [
              "array([[ 0,  1,  2],\n",
              "       [ 3,  4,  5],\n",
              "       [ 6,  7,  8],\n",
              "       [ 9, 10, 11]])"
            ]
          },
          "execution_count": 34,
          "metadata": {},
          "output_type": "execute_result"
        }
      ],
      "source": [
        "# Create and shape using same line of code\n",
        "np.arange(12).reshape((4,3 ))"
      ]
    },
    {
      "cell_type": "code",
      "execution_count": null,
      "metadata": {
        "colab": {
          "base_uri": "https://localhost:8080/"
        },
        "id": "qyobqw5J8nsk",
        "outputId": "5b1216ca-609b-4f84-8e72-01a1f830015e"
      },
      "outputs": [
        {
          "data": {
            "text/plain": [
              "array([[ 0,  1],\n",
              "       [ 2,  3],\n",
              "       [ 4,  5],\n",
              "       [ 6,  7],\n",
              "       [ 8,  9],\n",
              "       [10, 11]])"
            ]
          },
          "execution_count": 112,
          "metadata": {},
          "output_type": "execute_result"
        }
      ],
      "source": [
        "# Reshape again\n",
        "a.reshape(6,2)"
      ]
    },
    {
      "cell_type": "code",
      "execution_count": null,
      "metadata": {
        "colab": {
          "base_uri": "https://localhost:8080/"
        },
        "id": "mTxzgpziUZBA",
        "outputId": "f124994a-9eb9-41d0-b1e6-1d0f4685b523"
      },
      "outputs": [
        {
          "data": {
            "text/plain": [
              "array([[ 0,  1,  2,  3,  4,  5],\n",
              "       [ 6,  7,  8,  9, 10, 11]])"
            ]
          },
          "execution_count": 54,
          "metadata": {},
          "output_type": "execute_result"
        }
      ],
      "source": [
        "# Reshaping with -1 (automatic calculation of the second dimension)\n",
        "a.reshape(2, -1)"
      ]
    },
    {
      "cell_type": "markdown",
      "metadata": {
        "id": "U8aCjgN2Ue__"
      },
      "source": [
        "Transposing"
      ]
    },
    {
      "cell_type": "code",
      "execution_count": null,
      "metadata": {
        "colab": {
          "base_uri": "https://localhost:8080/"
        },
        "id": "zaR_pduf8Gzg",
        "outputId": "e6f86548-8f95-46fa-81a2-e5d99401554f"
      },
      "outputs": [
        {
          "data": {
            "text/plain": [
              "array([[1, 4],\n",
              "       [2, 5],\n",
              "       [3, 6]])"
            ]
          },
          "execution_count": 219,
          "metadata": {},
          "output_type": "execute_result"
        }
      ],
      "source": [
        "# Swap rows and columns using transpose\n",
        "arr = np.array([[1, 2, 3],\n",
        "                [4, 5, 6]])\n",
        "arr.transpose()"
      ]
    },
    {
      "cell_type": "markdown",
      "metadata": {
        "id": "W39ESnvxXgg1"
      },
      "source": [
        "Flattening"
      ]
    },
    {
      "cell_type": "code",
      "execution_count": null,
      "metadata": {
        "colab": {
          "base_uri": "https://localhost:8080/"
        },
        "id": "0lcKvpVoDS4X",
        "outputId": "4c871980-3e0d-47de-9936-759a8c61b80f"
      },
      "outputs": [
        {
          "data": {
            "text/plain": [
              "array([ 1,  2,  3,  4,  5,  6,  7,  8,  9, 10, 11, 12])"
            ]
          },
          "execution_count": 68,
          "metadata": {},
          "output_type": "execute_result"
        }
      ],
      "source": [
        "# Flatten array (Flatten doesnt change the parent array)\n",
        "\n",
        "# Create sample data\n",
        "data = np.array([[1,2,3,4],\n",
        "                [5,6,7,8],\n",
        "                 [9,10,11,12]])\n",
        "# Flatten the array\n",
        "data.flatten()"
      ]
    },
    {
      "cell_type": "code",
      "execution_count": null,
      "metadata": {
        "colab": {
          "base_uri": "https://localhost:8080/"
        },
        "id": "gXMZ3bfsYEnn",
        "outputId": "863b376c-8289-435e-b675-fc5de768c603"
      },
      "outputs": [
        {
          "data": {
            "text/plain": [
              "array([90,  2, 50,  4,  5,  6,  7,  8,  9, 10, 11, 12])"
            ]
          },
          "execution_count": 70,
          "metadata": {},
          "output_type": "execute_result"
        }
      ],
      "source": [
        "# Flatten doesnt change the parent array\n",
        "# It create a new array different from parent array if you add elements\n",
        "y = data.flatten()\n",
        "y[0] = 90\n",
        "y[2] = 50\n",
        "\n",
        "# Print the new array\n",
        "y"
      ]
    },
    {
      "cell_type": "markdown",
      "metadata": {
        "id": "0JOeAT0zFHK9"
      },
      "source": [
        "To flatten the array and change the parent array, we use ravel()"
      ]
    },
    {
      "cell_type": "code",
      "execution_count": null,
      "metadata": {
        "colab": {
          "base_uri": "https://localhost:8080/"
        },
        "id": "9T_J2W7QFOGD",
        "outputId": "e0a6b445-b3d6-41c1-8d99-a5186d4fccff"
      },
      "outputs": [
        {
          "data": {
            "text/plain": [
              "array([90,  2, 50,  4,  5,  6,  7,  8,  9, 10, 11, 12])"
            ]
          },
          "execution_count": 72,
          "metadata": {},
          "output_type": "execute_result"
        }
      ],
      "source": [
        "# Change elements and structure of data using ravel()\n",
        "\n",
        "# Create sample data\n",
        "data = np.array([[1,2,3,4],\n",
        "                [5,6,7,8],\n",
        "                 [9,10,11,12]])\n",
        "x = data.ravel()\n",
        "x[0] = 90\n",
        "x[2] =50\n",
        "\n",
        "# print the changed structure\n",
        "x"
      ]
    },
    {
      "cell_type": "markdown",
      "metadata": {
        "id": "cOkUSp1ya6qp"
      },
      "source": [
        "## **Reversing the Arrays**\n",
        "\n",
        "Reversing an array involves changing the order of its elements. This operation does not change the shape of the array; instead, it flips the order of elements along one or more axes.\n",
        "\n",
        "NumPy provides functions like np.flip() and array slicing to reverse elements along specific axes."
      ]
    },
    {
      "cell_type": "code",
      "execution_count": null,
      "metadata": {
        "colab": {
          "base_uri": "https://localhost:8080/"
        },
        "id": "kvIPV-QZ-OFX",
        "outputId": "4031ddd4-3d0b-4c35-81da-f0543c3bc4ae"
      },
      "outputs": [
        {
          "data": {
            "text/plain": [
              "array([8, 7, 6, 5, 4, 3, 2, 1])"
            ]
          },
          "execution_count": 57,
          "metadata": {},
          "output_type": "execute_result"
        }
      ],
      "source": [
        "# Create array to reverse\n",
        "arr = np.array([1, 2, 3, 4, 5, 6, 7, 8])\n",
        "\n",
        "# reverse using flip()\n",
        "np.flip(arr)"
      ]
    },
    {
      "cell_type": "code",
      "execution_count": null,
      "metadata": {
        "colab": {
          "base_uri": "https://localhost:8080/"
        },
        "id": "JUdO5d-rA8FC",
        "outputId": "86c90d03-206c-4c10-cbad-6aaccea87cb1"
      },
      "outputs": [
        {
          "data": {
            "text/plain": [
              "array([[12, 11, 10],\n",
              "       [ 7,  6,  5],\n",
              "       [ 3,  2,  2]])"
            ]
          },
          "execution_count": 60,
          "metadata": {},
          "output_type": "execute_result"
        }
      ],
      "source": [
        "# Create array to reverse\n",
        "arr2 = np.array([[2, 2, 3],\n",
        "                [5, 6, 7],\n",
        "                 [10, 11, 12]])\n",
        "\n",
        "# Reverse rows and columns\n",
        "np.flip(arr2)"
      ]
    },
    {
      "cell_type": "code",
      "execution_count": null,
      "metadata": {
        "colab": {
          "base_uri": "https://localhost:8080/"
        },
        "id": "XFGMsyN7-r45",
        "outputId": "e04fc6da-d96c-4c86-bb27-519a0d4a5985"
      },
      "outputs": [
        {
          "data": {
            "text/plain": [
              "array([[ 9,  4,  6],\n",
              "       [ 1,  4,  4],\n",
              "       [ 6,  9, 16],\n",
              "       [ 8,  4,  1]])"
            ]
          },
          "execution_count": 223,
          "metadata": {},
          "output_type": "execute_result"
        }
      ],
      "source": [
        "# Create array to reverse\n",
        "data= np.random.randint(1,20,(4,3))\n",
        "data"
      ]
    },
    {
      "cell_type": "code",
      "execution_count": null,
      "metadata": {
        "colab": {
          "base_uri": "https://localhost:8080/"
        },
        "id": "wlTP60K3-9Bp",
        "outputId": "403f2d1f-bdc5-4d06-92f2-5b13f40386e3"
      },
      "outputs": [
        {
          "data": {
            "text/plain": [
              "array([[ 8,  4,  1],\n",
              "       [ 6,  9, 16],\n",
              "       [ 1,  4,  4],\n",
              "       [ 9,  4,  6]])"
            ]
          },
          "execution_count": 229,
          "metadata": {},
          "output_type": "execute_result"
        }
      ],
      "source": [
        "#Reverse only Rows\n",
        "np.flip(data, axis=0)"
      ]
    },
    {
      "cell_type": "markdown",
      "metadata": {
        "id": "mBMuhr4u_3tO"
      },
      "source": [
        "NumPy allows conversion of arrays from one dimension to another"
      ]
    },
    {
      "cell_type": "code",
      "execution_count": null,
      "metadata": {
        "colab": {
          "base_uri": "https://localhost:8080/"
        },
        "id": "NtOqGF_r_-bf",
        "outputId": "0ef99e99-7c99-4733-8d02-523fbc4629d3"
      },
      "outputs": [
        {
          "data": {
            "text/plain": [
              "array([0, 1, 2, 3, 4, 5, 6])"
            ]
          },
          "execution_count": 73,
          "metadata": {},
          "output_type": "execute_result"
        }
      ],
      "source": [
        "# Increase dimensions of your array by one dimension\n",
        "a = np.arange(7)\n",
        "a"
      ]
    },
    {
      "cell_type": "code",
      "execution_count": null,
      "metadata": {
        "colab": {
          "base_uri": "https://localhost:8080/"
        },
        "id": "fYKrmJINCDYN",
        "outputId": "5efb4071-aa1d-4e7d-b968-8fe94650f04e"
      },
      "outputs": [
        {
          "data": {
            "text/plain": [
              "array([[0, 1, 2, 3, 4, 5, 6]])"
            ]
          },
          "execution_count": 75,
          "metadata": {},
          "output_type": "execute_result"
        }
      ],
      "source": [
        "# add new axis for row vector\n",
        "a_new =a[np.newaxis, :]\n",
        "a_new"
      ]
    },
    {
      "cell_type": "code",
      "execution_count": null,
      "metadata": {
        "colab": {
          "base_uri": "https://localhost:8080/"
        },
        "id": "K_kTsNFADOxT",
        "outputId": "42246fcf-3a97-4a4f-a0db-39cc2d34d46a"
      },
      "outputs": [
        {
          "data": {
            "text/plain": [
              "array([[0],\n",
              "       [1],\n",
              "       [2],\n",
              "       [3],\n",
              "       [4],\n",
              "       [5],\n",
              "       [6]])"
            ]
          },
          "execution_count": 77,
          "metadata": {},
          "output_type": "execute_result"
        }
      ],
      "source": [
        "# Add new axis for column vector\n",
        "a_new2=a[:, np.newaxis]\n",
        "a_new2"
      ]
    },
    {
      "cell_type": "markdown",
      "metadata": {
        "id": "IEcNwnnTHrSB"
      },
      "source": [
        "#**Array Indexing and Slicing**\n",
        "\n",
        "Array indexing and slicing are fundamental concepts when working with arrays in NumPy or similar array-based libraries. These operations allow users to access and manipulate specific elements or subarrays within a larger array.\n",
        "\n",
        "Indexing involves accessing individual elements of an array using their position, known as an index. In most programming languages, including Python with NumPy, indexing starts at 0.\n",
        "\n",
        "Slicing involves extracting a portion (a slice) of an array by specifying a range of indices. It allows you to create new arrays representing a subset of the original data.\n",
        "\n"
      ]
    },
    {
      "cell_type": "code",
      "execution_count": null,
      "metadata": {
        "colab": {
          "base_uri": "https://localhost:8080/"
        },
        "id": "8l2rzuRcHwmw",
        "outputId": "6fcfeec3-e006-4802-9f4e-fa2fb301fdb7"
      },
      "outputs": [
        {
          "data": {
            "text/plain": [
              "array([98, 38, 15, 47, 62, 69, 27, 33,  6, 15])"
            ]
          },
          "execution_count": 78,
          "metadata": {},
          "output_type": "execute_result"
        }
      ],
      "source": [
        "# Create array\n",
        "data = np.random.randint(1,100,10)\n",
        "\n",
        "# Print array\n",
        "data"
      ]
    },
    {
      "cell_type": "code",
      "execution_count": null,
      "metadata": {
        "colab": {
          "base_uri": "https://localhost:8080/"
        },
        "id": "V3cpsgA2IBBX",
        "outputId": "09877870-82f8-499a-a87c-db8e9ccd220d"
      },
      "outputs": [
        {
          "data": {
            "text/plain": [
              "38"
            ]
          },
          "execution_count": 79,
          "metadata": {},
          "output_type": "execute_result"
        }
      ],
      "source": [
        "# Getting the second element\n",
        "data[1]"
      ]
    },
    {
      "cell_type": "code",
      "execution_count": null,
      "metadata": {
        "colab": {
          "base_uri": "https://localhost:8080/"
        },
        "id": "4JwjFI4cII2k",
        "outputId": "c0e0b03f-0fcf-4791-ba89-c04e73ce1558"
      },
      "outputs": [
        {
          "data": {
            "text/plain": [
              "array([15, 47, 62])"
            ]
          },
          "execution_count": 81,
          "metadata": {},
          "output_type": "execute_result"
        }
      ],
      "source": [
        "# Getting the 3rd, 4th, 5th elements\n",
        "data[2:5]"
      ]
    },
    {
      "cell_type": "code",
      "execution_count": null,
      "metadata": {
        "colab": {
          "base_uri": "https://localhost:8080/"
        },
        "id": "clxbwcHmIO-L",
        "outputId": "7432b3ad-ac73-4e36-f4ea-f38a872b4d02"
      },
      "outputs": [
        {
          "data": {
            "text/plain": [
              "array([15, 47, 62, 69, 27, 33,  6, 15])"
            ]
          },
          "execution_count": 83,
          "metadata": {},
          "output_type": "execute_result"
        }
      ],
      "source": [
        "# Getting elements from 3rd element\n",
        "data[2:]"
      ]
    },
    {
      "cell_type": "code",
      "execution_count": null,
      "metadata": {
        "colab": {
          "base_uri": "https://localhost:8080/"
        },
        "id": "TuqqjNMWJJbP",
        "outputId": "984edfa1-9cc7-42f0-b4c4-b156c1251817"
      },
      "outputs": [
        {
          "data": {
            "text/plain": [
              "array([69, 27, 33,  6, 15])"
            ]
          },
          "execution_count": 84,
          "metadata": {},
          "output_type": "execute_result"
        }
      ],
      "source": [
        "# Extract last 5 elements\n",
        "data[-5:]"
      ]
    },
    {
      "cell_type": "code",
      "execution_count": null,
      "metadata": {
        "colab": {
          "base_uri": "https://localhost:8080/"
        },
        "id": "6n07AxO0JYn6",
        "outputId": "39187cf1-efc3-4de6-89cf-dc76e42afca9"
      },
      "outputs": [
        {
          "data": {
            "text/plain": [
              "array([98, 38, 15, 47, 62])"
            ]
          },
          "execution_count": 85,
          "metadata": {},
          "output_type": "execute_result"
        }
      ],
      "source": [
        "# Extract 5 first elements\n",
        "data[: -5]"
      ]
    },
    {
      "cell_type": "markdown",
      "metadata": {
        "id": "WCA1zz2QJnuf"
      },
      "source": [
        "Conditional Slicing"
      ]
    },
    {
      "cell_type": "code",
      "execution_count": null,
      "metadata": {
        "colab": {
          "base_uri": "https://localhost:8080/"
        },
        "id": "A09DPHU7Ju7u",
        "outputId": "515e1e7f-cb63-4dc7-c1c6-db700c7c0096"
      },
      "outputs": [
        {
          "data": {
            "text/plain": [
              "array([[[10,  1, 13],\n",
              "        [12,  6, 25],\n",
              "        [10, 19, 13]],\n",
              "\n",
              "       [[12, 27, 11],\n",
              "        [26, 23, 15],\n",
              "        [16, 23, 24]]])"
            ]
          },
          "execution_count": 86,
          "metadata": {},
          "output_type": "execute_result"
        }
      ],
      "source": [
        "# Create array\n",
        "dta = np.random.randint(1,30, (2,3,3))\n",
        "\n",
        "# Print array\n",
        "dta"
      ]
    },
    {
      "cell_type": "code",
      "execution_count": null,
      "metadata": {
        "colab": {
          "base_uri": "https://localhost:8080/"
        },
        "id": "IJazoFETLCUm",
        "outputId": "561f8cf7-1c1a-4b34-97af-db5a0c83da7f"
      },
      "outputs": [
        {
          "data": {
            "text/plain": [
              "array([13, 12, 25, 19, 13, 12, 27, 11, 26, 23, 15, 16, 23, 24])"
            ]
          },
          "execution_count": 89,
          "metadata": {},
          "output_type": "execute_result"
        }
      ],
      "source": [
        "# Select elements greater than 10\n",
        "data = dta[ dta >10]\n",
        "\n",
        "# Print the elements\n",
        "data"
      ]
    },
    {
      "cell_type": "code",
      "execution_count": null,
      "metadata": {
        "colab": {
          "base_uri": "https://localhost:8080/"
        },
        "id": "J4LPdbB8LlaE",
        "outputId": "e5bd5979-5bc2-4efa-c0f0-028eba7c38c5"
      },
      "outputs": [
        {
          "data": {
            "text/plain": [
              "array([10, 12,  6, 10, 12, 26, 16, 24])"
            ]
          },
          "execution_count": 91,
          "metadata": {},
          "output_type": "execute_result"
        }
      ],
      "source": [
        "# Select elements divisible by 3\n",
        "data2 = dta[ dta%2==0]\n",
        "\n",
        "# Print the elements\n",
        "data2"
      ]
    },
    {
      "cell_type": "markdown",
      "metadata": {
        "id": "tBlX9DZ4gmgH"
      },
      "source": [
        "& and | operators"
      ]
    },
    {
      "cell_type": "code",
      "execution_count": null,
      "metadata": {
        "id": "7tE_Gj9-L8xC"
      },
      "outputs": [],
      "source": [
        "# Select elements that satisfy two conditions using or and and operators"
      ]
    },
    {
      "cell_type": "code",
      "execution_count": null,
      "metadata": {
        "colab": {
          "base_uri": "https://localhost:8080/"
        },
        "id": "OYjX9Dy7NQX3",
        "outputId": "566a5434-e78a-4d80-c9aa-2bababcded95"
      },
      "outputs": [
        {
          "data": {
            "text/plain": [
              "array([27, 24])"
            ]
          },
          "execution_count": 92,
          "metadata": {},
          "output_type": "execute_result"
        }
      ],
      "source": [
        "# Using & operator\n",
        "c =dta[(dta > 15) & (dta%3 ==0)]\n",
        "\n",
        "# Print the elements\n",
        "c"
      ]
    },
    {
      "cell_type": "code",
      "execution_count": null,
      "metadata": {
        "colab": {
          "base_uri": "https://localhost:8080/"
        },
        "id": "PiTvZrbtN127",
        "outputId": "0f5a006d-b97c-4c60-a65f-fe86fd6021ae"
      },
      "outputs": [
        {
          "data": {
            "text/plain": [
              "array([25, 19, 27, 26, 23, 16, 23, 24])"
            ]
          },
          "execution_count": 93,
          "metadata": {},
          "output_type": "execute_result"
        }
      ],
      "source": [
        "# using or operator\n",
        "d = dta[(dta > 15) | (dta == 25)]\n",
        "\n",
        "# Print the elements\n",
        "d"
      ]
    },
    {
      "cell_type": "markdown",
      "metadata": {
        "id": "VOVKYi7IhDy_"
      },
      "source": [
        "Multi-dimensional Indexing and Slicing"
      ]
    },
    {
      "cell_type": "code",
      "execution_count": null,
      "metadata": {
        "colab": {
          "base_uri": "https://localhost:8080/"
        },
        "id": "RALNgCZsdc6D",
        "outputId": "605bba21-9fd0-4616-8368-b2b0226be07c"
      },
      "outputs": [
        {
          "data": {
            "text/plain": [
              "array([[[35, 60, 94, 50],\n",
              "        [38, 30, 85, 39],\n",
              "        [40, 87, 68, 52]],\n",
              "\n",
              "       [[82,  9, 54, 97],\n",
              "        [15, 59, 96, 18],\n",
              "        [92, 46, 87,  7]],\n",
              "\n",
              "       [[73, 72, 58, 42],\n",
              "        [73, 58, 80, 12],\n",
              "        [77, 38, 99, 88]]])"
            ]
          },
          "execution_count": 95,
          "metadata": {},
          "output_type": "execute_result"
        }
      ],
      "source": [
        "# Create array\n",
        "arry= np.random.randint(5,100,(3,3,4))\n",
        "\n",
        "# Print array\n",
        "arry"
      ]
    },
    {
      "cell_type": "code",
      "execution_count": null,
      "metadata": {
        "colab": {
          "base_uri": "https://localhost:8080/"
        },
        "id": "nQKGvv1ofZBA",
        "outputId": "c18b17f0-7ba1-40a8-e976-d94cb428ede7"
      },
      "outputs": [
        {
          "data": {
            "text/plain": [
              "7"
            ]
          },
          "execution_count": 96,
          "metadata": {},
          "output_type": "execute_result"
        }
      ],
      "source": [
        "# Getting the fourth element in the third row in second layer\n",
        "arry[1,2,3]"
      ]
    },
    {
      "cell_type": "code",
      "execution_count": null,
      "metadata": {
        "colab": {
          "base_uri": "https://localhost:8080/"
        },
        "id": "w6iqBbZDgdw6",
        "outputId": "14a935b0-16a8-4371-fcd6-594ae5a9b587"
      },
      "outputs": [
        {
          "data": {
            "text/plain": [
              "array([73, 58, 80, 12])"
            ]
          },
          "execution_count": 97,
          "metadata": {},
          "output_type": "execute_result"
        }
      ],
      "source": [
        "# Getting the second row in the third layer\n",
        "arry[2,1]"
      ]
    },
    {
      "cell_type": "code",
      "execution_count": null,
      "metadata": {
        "colab": {
          "base_uri": "https://localhost:8080/"
        },
        "id": "XJ0emiL4gSzN",
        "outputId": "96c1d7b8-2297-407c-90b5-dcaff7ab7b8e"
      },
      "outputs": [
        {
          "data": {
            "text/plain": [
              "array([[94, 85],\n",
              "       [54, 96],\n",
              "       [58, 80]])"
            ]
          },
          "execution_count": 98,
          "metadata": {},
          "output_type": "execute_result"
        }
      ],
      "source": [
        "# Getting the 2nd column and the first 3 rows\n",
        "arry[:, :2, 2]"
      ]
    },
    {
      "cell_type": "code",
      "execution_count": null,
      "metadata": {
        "colab": {
          "base_uri": "https://localhost:8080/"
        },
        "id": "jftVKxzOiikL",
        "outputId": "7ea0822f-632e-4cf7-f400-2236efff31e5"
      },
      "outputs": [
        {
          "data": {
            "text/plain": [
              "array([[73, 72, 58, 42],\n",
              "       [73, 58, 80, 12],\n",
              "       [77, 38, 99, 88]])"
            ]
          },
          "execution_count": 99,
          "metadata": {},
          "output_type": "execute_result"
        }
      ],
      "source": [
        "# Get the third row and all columns\n",
        "arry[2, :, :]\n"
      ]
    },
    {
      "cell_type": "code",
      "execution_count": null,
      "metadata": {
        "colab": {
          "base_uri": "https://localhost:8080/"
        },
        "id": "H8pJ3sq2jHEn",
        "outputId": "adfd3e76-534a-4403-cadf-f9f75813a60f"
      },
      "outputs": [
        {
          "data": {
            "text/plain": [
              "array([[[30, 85],\n",
              "        [87, 68]],\n",
              "\n",
              "       [[58, 80],\n",
              "        [38, 99]]])"
            ]
          },
          "execution_count": 100,
          "metadata": {},
          "output_type": "execute_result"
        }
      ],
      "source": [
        "# Get elements from the first and third layers, for the second and third columns, and from the second and third rows\n",
        "arry[[0, 2], 1:, 1:3]"
      ]
    },
    {
      "cell_type": "markdown",
      "metadata": {
        "id": "u05pMJ7PjzPr"
      },
      "source": [
        "#**Stacking Rows and Columns in NumPy**\n",
        "Stacking rows and columns in NumPy is all about combining multiple arrays along specific axes to create a new array.\n",
        "\n",
        "There are two types of stacking\n",
        "\n",
        "**A. Horizontal Stacking (np.hstack)**\n",
        "1. Combines arrays along the horizontal axis (columns).\n",
        "2. Arrays must have the same number of rows.\n",
        "3. Results in a new array with a shape determined by the total number of columns.\n",
        "\n",
        "**B. Vertical Stacking (np.vstack)**\n",
        "1. Combines arrays along the vertical axis (rows).\n",
        "2. Arrays must have the same number of columns.\n",
        "3. Results in a new array with a shape determined by the total number of rows."
      ]
    },
    {
      "cell_type": "code",
      "execution_count": null,
      "metadata": {
        "colab": {
          "background_save": true
        },
        "id": "MBpfSfLLklq8"
      },
      "outputs": [],
      "source": [
        "# Create arrays\n",
        "a1 = np.array([[1,2,3], [3,4,5]])\n",
        "a2 = np.array([[2,3,4],[ 6,7,8]])"
      ]
    },
    {
      "cell_type": "code",
      "execution_count": null,
      "metadata": {
        "colab": {
          "base_uri": "https://localhost:8080/"
        },
        "id": "IS7pzcz9la7R",
        "outputId": "d757e0a3-8e22-40fe-d80d-d2d626ca6636"
      },
      "outputs": [
        {
          "data": {
            "text/plain": [
              "array([[1, 2, 3],\n",
              "       [3, 4, 5],\n",
              "       [2, 3, 4],\n",
              "       [6, 7, 8]])"
            ]
          },
          "execution_count": 204,
          "metadata": {},
          "output_type": "execute_result"
        }
      ],
      "source": [
        "# Stack Vertically (vstack)\n",
        "v= np.vstack((a1,a2))\n",
        "\n",
        "# Print stacked arrays\n",
        "v"
      ]
    },
    {
      "cell_type": "code",
      "execution_count": null,
      "metadata": {
        "colab": {
          "base_uri": "https://localhost:8080/"
        },
        "id": "LNIMZ2TTlpSF",
        "outputId": "92fa5547-c578-4a02-ca07-f5b9e3dfa01c"
      },
      "outputs": [
        {
          "output_type": "execute_result",
          "data": {
            "text/plain": [
              "array([[1, 2, 3, 2, 3, 4],\n",
              "       [3, 4, 5, 6, 7, 8]])"
            ]
          },
          "metadata": {},
          "execution_count": 103
        }
      ],
      "source": [
        "# Stack Horizontally (hstack)\n",
        "h = np.hstack((a1,a2))\n",
        "\n",
        "# Print the stacked arrays\n",
        "h"
      ]
    },
    {
      "cell_type": "markdown",
      "source": [
        "Other Array Manipulations Functions and Methods"
      ],
      "metadata": {
        "id": "EROpdjKrolE6"
      }
    },
    {
      "cell_type": "markdown",
      "source": [
        "**Copy an Array**"
      ],
      "metadata": {
        "id": "LVwzLPFDpHf6"
      }
    },
    {
      "cell_type": "code",
      "execution_count": null,
      "metadata": {
        "colab": {
          "base_uri": "https://localhost:8080/"
        },
        "id": "ZX7L21s2mzJF",
        "outputId": "d8554787-7998-4671-bd13-ac5a728bf78c"
      },
      "outputs": [
        {
          "output_type": "execute_result",
          "data": {
            "text/plain": [
              "array([1, 2, 3, 4, 5])"
            ]
          },
          "metadata": {},
          "execution_count": 107
        }
      ],
      "source": [
        "# Copy an array\n",
        "# Create and array\n",
        "arr = np.array([1, 2, 3, 4, 5])\n",
        "\n",
        "# Copy an array\n",
        "arr.copy()"
      ]
    },
    {
      "cell_type": "markdown",
      "source": [
        "Split an array"
      ],
      "metadata": {
        "id": "dnwvD8FzqE_e"
      }
    },
    {
      "cell_type": "code",
      "source": [
        "# Split Horizontally (np.hsplit)\n",
        "arr = np.array([[1, 2, 3, 4],\n",
        "                [5, 6, 7, 8],\n",
        "                [9, 10, 11, 12]])\n",
        "\n",
        "# Splitting an array\n",
        "np.hsplit(arr, 2)"
      ],
      "metadata": {
        "colab": {
          "base_uri": "https://localhost:8080/"
        },
        "id": "f_t4qh1fo4RG",
        "outputId": "1db64292-0f0b-479d-9356-8f4f50bfa385"
      },
      "execution_count": null,
      "outputs": [
        {
          "output_type": "execute_result",
          "data": {
            "text/plain": [
              "[array([[ 1,  2],\n",
              "        [ 5,  6],\n",
              "        [ 9, 10]]),\n",
              " array([[ 3,  4],\n",
              "        [ 7,  8],\n",
              "        [11, 12]])]"
            ]
          },
          "metadata": {},
          "execution_count": 112
        }
      ]
    },
    {
      "cell_type": "code",
      "execution_count": null,
      "metadata": {
        "colab": {
          "base_uri": "https://localhost:8080/"
        },
        "id": "4go-tZxknE0G",
        "outputId": "d14909ab-7c2a-4325-a729-f57803d9cab1"
      },
      "outputs": [
        {
          "output_type": "execute_result",
          "data": {
            "text/plain": [
              "[array([[ 1,  2],\n",
              "        [ 5,  6],\n",
              "        [ 9, 10]]),\n",
              " array([[ 3,  4],\n",
              "        [ 7,  8],\n",
              "        [11, 12]]),\n",
              " array([], shape=(3, 0), dtype=int64)]"
            ]
          },
          "metadata": {},
          "execution_count": 110
        }
      ],
      "source": [
        "# Split horizontally\n",
        "np.hsplit(arr,(2,6))"
      ]
    },
    {
      "cell_type": "code",
      "source": [
        "# Split Vertically (np.vsplit)\n",
        "\n",
        "# Create an array\n",
        "arr = np.array([[1, 2, 3, 4],\n",
        "                [5, 6, 7, 8],\n",
        "                [9, 10, 11, 12]])\n",
        "\n",
        "# Split an array\n",
        "np.vsplit(arr, 3)"
      ],
      "metadata": {
        "colab": {
          "base_uri": "https://localhost:8080/"
        },
        "id": "GZ9dYQMsq-mo",
        "outputId": "b2e45a56-2e78-4b9a-db93-8739941fce89"
      },
      "execution_count": null,
      "outputs": [
        {
          "output_type": "execute_result",
          "data": {
            "text/plain": [
              "[array([[1, 2, 3, 4]]), array([[5, 6, 7, 8]]), array([[ 9, 10, 11, 12]])]"
            ]
          },
          "metadata": {},
          "execution_count": 113
        }
      ]
    },
    {
      "cell_type": "markdown",
      "source": [
        "## **Mathematical Operations**\n",
        "\n",
        "NumPy provides a powerful and efficient way to perform mathematical operations on arrays. These operations can be applied element-wise, and NumPy provides a wide range of mathematical functions that can be used directly with arrays.\n",
        "\n",
        "Some of Mathematical Operations are:\n",
        "\n",
        "1. np.sum(arr, axis=None): Sum of array elements.\n",
        "2. np.mean(arr, axis=None): Mean of array elements.\n",
        "3. np.median(arr, axis=None): Median of array elements.\n",
        "4. np.std(arr, axis=None): Standard deviation of array elements.\n",
        "5. np.min(arr, axis=None): Minimum value in an array.\n",
        "6. np.max(arr, axis=None): Maximum value in an array.\n",
        "7. np.argmin(arr, axis=None): Index of minimum value in an array.\n",
        "8. np.argmax(arr, axis=None): Index of maximum value in an array.\n",
        "9. and more including additions, multiplication, subractions and divisions"
      ],
      "metadata": {
        "id": "16z-mydhrUu0"
      }
    },
    {
      "cell_type": "code",
      "execution_count": null,
      "metadata": {
        "id": "nhLdCSi9n28P"
      },
      "outputs": [],
      "source": [
        "# Create array\n",
        "my_array = np.array([[1, 2, 3], [4, 5, 6], [7, 8, 9]])\n",
        "arry = np.array([[2, 3, 3], [5, 5, 6], [7, 8, 7]])"
      ]
    },
    {
      "cell_type": "code",
      "source": [
        "# Additions\n",
        "my_array + 10"
      ],
      "metadata": {
        "colab": {
          "base_uri": "https://localhost:8080/"
        },
        "id": "CMiwxTWdvRWe",
        "outputId": "ecaf67b9-b7e4-4add-d1fa-9b15b4db7eeb"
      },
      "execution_count": null,
      "outputs": [
        {
          "output_type": "execute_result",
          "data": {
            "text/plain": [
              "array([[11, 12, 13],\n",
              "       [14, 15, 16],\n",
              "       [17, 18, 19]])"
            ]
          },
          "metadata": {},
          "execution_count": 116
        }
      ]
    },
    {
      "cell_type": "code",
      "source": [
        "# Additions\n",
        "my_array + arry"
      ],
      "metadata": {
        "colab": {
          "base_uri": "https://localhost:8080/"
        },
        "id": "VWjxbZMFvX35",
        "outputId": "64cb59ae-4783-43cd-df94-32ed73128840"
      },
      "execution_count": null,
      "outputs": [
        {
          "output_type": "execute_result",
          "data": {
            "text/plain": [
              "array([[ 3,  5,  6],\n",
              "       [ 9, 10, 12],\n",
              "       [14, 16, 16]])"
            ]
          },
          "metadata": {},
          "execution_count": 117
        }
      ]
    },
    {
      "cell_type": "code",
      "execution_count": null,
      "metadata": {
        "colab": {
          "base_uri": "https://localhost:8080/"
        },
        "id": "qbSonJrFoD4w",
        "outputId": "b0e5ee19-f971-4afc-94a1-8ad61f054322"
      },
      "outputs": [
        {
          "output_type": "execute_result",
          "data": {
            "text/plain": [
              "array([[ 5, 10, 15],\n",
              "       [20, 25, 30],\n",
              "       [35, 40, 45]])"
            ]
          },
          "metadata": {},
          "execution_count": 118
        }
      ],
      "source": [
        "# Multiplying arrays\n",
        "my_array*5"
      ]
    },
    {
      "cell_type": "code",
      "source": [
        "# Multiplying arrays\n",
        "my_array*arry"
      ],
      "metadata": {
        "colab": {
          "base_uri": "https://localhost:8080/"
        },
        "id": "s4VplHo-vrG9",
        "outputId": "035c84d0-5a13-4adb-e473-0131c86fa8dd"
      },
      "execution_count": null,
      "outputs": [
        {
          "output_type": "execute_result",
          "data": {
            "text/plain": [
              "array([[ 2,  6,  9],\n",
              "       [20, 25, 36],\n",
              "       [49, 64, 63]])"
            ]
          },
          "metadata": {},
          "execution_count": 119
        }
      ]
    },
    {
      "cell_type": "markdown",
      "source": [
        "You can do the same for division and subtraction by using - and /, respectively"
      ],
      "metadata": {
        "id": "ImilZVgQvx4b"
      }
    },
    {
      "cell_type": "code",
      "execution_count": null,
      "metadata": {
        "colab": {
          "base_uri": "https://localhost:8080/"
        },
        "id": "HNXBSweWok86",
        "outputId": "05dff699-f82a-417e-86c5-dcec3ae0af5b"
      },
      "outputs": [
        {
          "output_type": "execute_result",
          "data": {
            "text/plain": [
              "91"
            ]
          },
          "metadata": {},
          "execution_count": 120
        }
      ],
      "source": [
        "# Get sum .\n",
        "my_array.sum() + arry.sum()"
      ]
    },
    {
      "cell_type": "code",
      "source": [
        "# Find maximum value in arry\n",
        "arry.max()"
      ],
      "metadata": {
        "colab": {
          "base_uri": "https://localhost:8080/"
        },
        "id": "FLrlWY4UwCYr",
        "outputId": "a47bbcde-bd83-463c-e3bf-95bb7d1435ee"
      },
      "execution_count": null,
      "outputs": [
        {
          "output_type": "execute_result",
          "data": {
            "text/plain": [
              "8"
            ]
          },
          "metadata": {},
          "execution_count": 121
        }
      ]
    },
    {
      "cell_type": "code",
      "source": [
        "# Find the minimum value in my_array\n",
        "my_array.min()"
      ],
      "metadata": {
        "colab": {
          "base_uri": "https://localhost:8080/"
        },
        "id": "v_JYJ3-fwJs1",
        "outputId": "7ccf4ffa-b304-492d-afdd-d746a727d738"
      },
      "execution_count": null,
      "outputs": [
        {
          "output_type": "execute_result",
          "data": {
            "text/plain": [
              "1"
            ]
          },
          "metadata": {},
          "execution_count": 122
        }
      ]
    },
    {
      "cell_type": "code",
      "execution_count": null,
      "metadata": {
        "colab": {
          "base_uri": "https://localhost:8080/"
        },
        "id": "fcn4Yxkiowr3",
        "outputId": "bc650ac3-4eec-41ed-d19b-419ccd16ab57"
      },
      "outputs": [
        {
          "output_type": "execute_result",
          "data": {
            "text/plain": [
              "array([ 8, 16, 22])"
            ]
          },
          "metadata": {},
          "execution_count": 123
        }
      ],
      "source": [
        "# Sum over axis of columns\n",
        "arry.sum(axis=1)"
      ]
    },
    {
      "cell_type": "code",
      "execution_count": null,
      "metadata": {
        "colab": {
          "base_uri": "https://localhost:8080/"
        },
        "id": "0sIrdNOWo5UM",
        "outputId": "06d4222c-3ce0-4dcf-a9ff-f3da43c4f5f7"
      },
      "outputs": [
        {
          "output_type": "execute_result",
          "data": {
            "text/plain": [
              "array([12, 15, 18])"
            ]
          },
          "metadata": {},
          "execution_count": 124
        }
      ],
      "source": [
        "# Sum over axis of rows\n",
        "my_array.sum(axis=0)"
      ]
    },
    {
      "cell_type": "markdown",
      "metadata": {
        "id": "YjmBqqKOG8et"
      },
      "source": [
        "**Loading and Saving in Numpy**"
      ]
    },
    {
      "cell_type": "code",
      "execution_count": null,
      "metadata": {
        "id": "VK3HNtlWHQ4d"
      },
      "outputs": [],
      "source": [
        "# Save Objects\n",
        "# To save an array, specifify the arrary you want to save and the file name\n",
        "np.save('filename', 'array')"
      ]
    },
    {
      "cell_type": "code",
      "execution_count": null,
      "metadata": {
        "id": "5fD1tObcIVmI"
      },
      "outputs": [],
      "source": [
        "# Save an array as .csv\n",
        "arr = np.array([8,1,2,5,6,7,9])\n",
        "np.savetxt('new_file.csv', arr)"
      ]
    },
    {
      "cell_type": "code",
      "execution_count": null,
      "metadata": {
        "colab": {
          "base_uri": "https://localhost:8080/"
        },
        "id": "89LPQNPwHuFR",
        "outputId": "9817ce50-3b28-4e0d-aac6-0938546d8703"
      },
      "outputs": [
        {
          "data": {
            "text/plain": [
              "array('array', dtype='<U5')"
            ]
          },
          "execution_count": 242,
          "metadata": {},
          "output_type": "execute_result"
        }
      ],
      "source": [
        "# Load the array\n",
        "np.load('filename.npy')"
      ]
    },
    {
      "cell_type": "markdown",
      "metadata": {
        "id": "OwS2poZYJpSC"
      },
      "source": [
        "#**Reading Files**\n",
        "1. Use pd.read_csv() to import files in NumPy.\n",
        "2. If all colums are the same you simply assign a variable name similar to the file you want to read. Then use pd.read_cvs following by (file path, header=0).values\n",
        "3. You can also simply select columns you need by simply passing them in a list.e.g. you can end the pd.read_cvs with this(usecols=['Song', 'Genre']).values)"
      ]
    },
    {
      "cell_type": "markdown",
      "source": [
        "# Changing Array into DataFrame\n",
        "\n",
        "Converting a NumPy array to a Pandas DataFrame is a common operation in data analysis.\n",
        "\n",
        "Converting NumPy arrays to DataFrames is especially useful when working with structured data and leveraging the rich functionality provided by Pandas for data manipulation and analysis."
      ],
      "metadata": {
        "id": "Z45dkWTJxm5D"
      }
    },
    {
      "cell_type": "code",
      "execution_count": null,
      "metadata": {
        "colab": {
          "base_uri": "https://localhost:8080/"
        },
        "id": "hEjcKXfDKnzz",
        "outputId": "b4cf617a-6051-45de-aff4-6a05eafb0005"
      },
      "outputs": [
        {
          "output_type": "execute_result",
          "data": {
            "text/plain": [
              "array([[34,  4, 16, 17],\n",
              "       [15,  8,  5, 30],\n",
              "       [13, 36,  4, 19]])"
            ]
          },
          "metadata": {},
          "execution_count": 129
        }
      ],
      "source": [
        "# Change an array into a DataFrame\n",
        "\n",
        "# Create an array\n",
        "arry = np.random.randint(2, 50, (3, 4))\n",
        "\n",
        "# Print an array\n",
        "arry"
      ]
    },
    {
      "cell_type": "code",
      "execution_count": null,
      "metadata": {
        "colab": {
          "base_uri": "https://localhost:8080/",
          "height": 143
        },
        "id": "Iv_cVrIRLgvi",
        "outputId": "d0021408-50ac-4693-ef12-2ba18be4ab7e"
      },
      "outputs": [
        {
          "output_type": "execute_result",
          "data": {
            "text/plain": [
              "    0   1   2   3\n",
              "0  34   4  16  17\n",
              "1  15   8   5  30\n",
              "2  13  36   4  19"
            ],
            "text/html": [
              "\n",
              "  <div id=\"df-ddb4f937-eb95-4d62-82eb-045cc6f00add\" class=\"colab-df-container\">\n",
              "    <div>\n",
              "<style scoped>\n",
              "    .dataframe tbody tr th:only-of-type {\n",
              "        vertical-align: middle;\n",
              "    }\n",
              "\n",
              "    .dataframe tbody tr th {\n",
              "        vertical-align: top;\n",
              "    }\n",
              "\n",
              "    .dataframe thead th {\n",
              "        text-align: right;\n",
              "    }\n",
              "</style>\n",
              "<table border=\"1\" class=\"dataframe\">\n",
              "  <thead>\n",
              "    <tr style=\"text-align: right;\">\n",
              "      <th></th>\n",
              "      <th>0</th>\n",
              "      <th>1</th>\n",
              "      <th>2</th>\n",
              "      <th>3</th>\n",
              "    </tr>\n",
              "  </thead>\n",
              "  <tbody>\n",
              "    <tr>\n",
              "      <th>0</th>\n",
              "      <td>34</td>\n",
              "      <td>4</td>\n",
              "      <td>16</td>\n",
              "      <td>17</td>\n",
              "    </tr>\n",
              "    <tr>\n",
              "      <th>1</th>\n",
              "      <td>15</td>\n",
              "      <td>8</td>\n",
              "      <td>5</td>\n",
              "      <td>30</td>\n",
              "    </tr>\n",
              "    <tr>\n",
              "      <th>2</th>\n",
              "      <td>13</td>\n",
              "      <td>36</td>\n",
              "      <td>4</td>\n",
              "      <td>19</td>\n",
              "    </tr>\n",
              "  </tbody>\n",
              "</table>\n",
              "</div>\n",
              "    <div class=\"colab-df-buttons\">\n",
              "\n",
              "  <div class=\"colab-df-container\">\n",
              "    <button class=\"colab-df-convert\" onclick=\"convertToInteractive('df-ddb4f937-eb95-4d62-82eb-045cc6f00add')\"\n",
              "            title=\"Convert this dataframe to an interactive table.\"\n",
              "            style=\"display:none;\">\n",
              "\n",
              "  <svg xmlns=\"http://www.w3.org/2000/svg\" height=\"24px\" viewBox=\"0 -960 960 960\">\n",
              "    <path d=\"M120-120v-720h720v720H120Zm60-500h600v-160H180v160Zm220 220h160v-160H400v160Zm0 220h160v-160H400v160ZM180-400h160v-160H180v160Zm440 0h160v-160H620v160ZM180-180h160v-160H180v160Zm440 0h160v-160H620v160Z\"/>\n",
              "  </svg>\n",
              "    </button>\n",
              "\n",
              "  <style>\n",
              "    .colab-df-container {\n",
              "      display:flex;\n",
              "      gap: 12px;\n",
              "    }\n",
              "\n",
              "    .colab-df-convert {\n",
              "      background-color: #E8F0FE;\n",
              "      border: none;\n",
              "      border-radius: 50%;\n",
              "      cursor: pointer;\n",
              "      display: none;\n",
              "      fill: #1967D2;\n",
              "      height: 32px;\n",
              "      padding: 0 0 0 0;\n",
              "      width: 32px;\n",
              "    }\n",
              "\n",
              "    .colab-df-convert:hover {\n",
              "      background-color: #E2EBFA;\n",
              "      box-shadow: 0px 1px 2px rgba(60, 64, 67, 0.3), 0px 1px 3px 1px rgba(60, 64, 67, 0.15);\n",
              "      fill: #174EA6;\n",
              "    }\n",
              "\n",
              "    .colab-df-buttons div {\n",
              "      margin-bottom: 4px;\n",
              "    }\n",
              "\n",
              "    [theme=dark] .colab-df-convert {\n",
              "      background-color: #3B4455;\n",
              "      fill: #D2E3FC;\n",
              "    }\n",
              "\n",
              "    [theme=dark] .colab-df-convert:hover {\n",
              "      background-color: #434B5C;\n",
              "      box-shadow: 0px 1px 3px 1px rgba(0, 0, 0, 0.15);\n",
              "      filter: drop-shadow(0px 1px 2px rgba(0, 0, 0, 0.3));\n",
              "      fill: #FFFFFF;\n",
              "    }\n",
              "  </style>\n",
              "\n",
              "    <script>\n",
              "      const buttonEl =\n",
              "        document.querySelector('#df-ddb4f937-eb95-4d62-82eb-045cc6f00add button.colab-df-convert');\n",
              "      buttonEl.style.display =\n",
              "        google.colab.kernel.accessAllowed ? 'block' : 'none';\n",
              "\n",
              "      async function convertToInteractive(key) {\n",
              "        const element = document.querySelector('#df-ddb4f937-eb95-4d62-82eb-045cc6f00add');\n",
              "        const dataTable =\n",
              "          await google.colab.kernel.invokeFunction('convertToInteractive',\n",
              "                                                    [key], {});\n",
              "        if (!dataTable) return;\n",
              "\n",
              "        const docLinkHtml = 'Like what you see? Visit the ' +\n",
              "          '<a target=\"_blank\" href=https://colab.research.google.com/notebooks/data_table.ipynb>data table notebook</a>'\n",
              "          + ' to learn more about interactive tables.';\n",
              "        element.innerHTML = '';\n",
              "        dataTable['output_type'] = 'display_data';\n",
              "        await google.colab.output.renderOutput(dataTable, element);\n",
              "        const docLink = document.createElement('div');\n",
              "        docLink.innerHTML = docLinkHtml;\n",
              "        element.appendChild(docLink);\n",
              "      }\n",
              "    </script>\n",
              "  </div>\n",
              "\n",
              "\n",
              "<div id=\"df-0a710ea2-8789-4f8f-9591-d8d4c26bab7a\">\n",
              "  <button class=\"colab-df-quickchart\" onclick=\"quickchart('df-0a710ea2-8789-4f8f-9591-d8d4c26bab7a')\"\n",
              "            title=\"Suggest charts\"\n",
              "            style=\"display:none;\">\n",
              "\n",
              "<svg xmlns=\"http://www.w3.org/2000/svg\" height=\"24px\"viewBox=\"0 0 24 24\"\n",
              "     width=\"24px\">\n",
              "    <g>\n",
              "        <path d=\"M19 3H5c-1.1 0-2 .9-2 2v14c0 1.1.9 2 2 2h14c1.1 0 2-.9 2-2V5c0-1.1-.9-2-2-2zM9 17H7v-7h2v7zm4 0h-2V7h2v10zm4 0h-2v-4h2v4z\"/>\n",
              "    </g>\n",
              "</svg>\n",
              "  </button>\n",
              "\n",
              "<style>\n",
              "  .colab-df-quickchart {\n",
              "      --bg-color: #E8F0FE;\n",
              "      --fill-color: #1967D2;\n",
              "      --hover-bg-color: #E2EBFA;\n",
              "      --hover-fill-color: #174EA6;\n",
              "      --disabled-fill-color: #AAA;\n",
              "      --disabled-bg-color: #DDD;\n",
              "  }\n",
              "\n",
              "  [theme=dark] .colab-df-quickchart {\n",
              "      --bg-color: #3B4455;\n",
              "      --fill-color: #D2E3FC;\n",
              "      --hover-bg-color: #434B5C;\n",
              "      --hover-fill-color: #FFFFFF;\n",
              "      --disabled-bg-color: #3B4455;\n",
              "      --disabled-fill-color: #666;\n",
              "  }\n",
              "\n",
              "  .colab-df-quickchart {\n",
              "    background-color: var(--bg-color);\n",
              "    border: none;\n",
              "    border-radius: 50%;\n",
              "    cursor: pointer;\n",
              "    display: none;\n",
              "    fill: var(--fill-color);\n",
              "    height: 32px;\n",
              "    padding: 0;\n",
              "    width: 32px;\n",
              "  }\n",
              "\n",
              "  .colab-df-quickchart:hover {\n",
              "    background-color: var(--hover-bg-color);\n",
              "    box-shadow: 0 1px 2px rgba(60, 64, 67, 0.3), 0 1px 3px 1px rgba(60, 64, 67, 0.15);\n",
              "    fill: var(--button-hover-fill-color);\n",
              "  }\n",
              "\n",
              "  .colab-df-quickchart-complete:disabled,\n",
              "  .colab-df-quickchart-complete:disabled:hover {\n",
              "    background-color: var(--disabled-bg-color);\n",
              "    fill: var(--disabled-fill-color);\n",
              "    box-shadow: none;\n",
              "  }\n",
              "\n",
              "  .colab-df-spinner {\n",
              "    border: 2px solid var(--fill-color);\n",
              "    border-color: transparent;\n",
              "    border-bottom-color: var(--fill-color);\n",
              "    animation:\n",
              "      spin 1s steps(1) infinite;\n",
              "  }\n",
              "\n",
              "  @keyframes spin {\n",
              "    0% {\n",
              "      border-color: transparent;\n",
              "      border-bottom-color: var(--fill-color);\n",
              "      border-left-color: var(--fill-color);\n",
              "    }\n",
              "    20% {\n",
              "      border-color: transparent;\n",
              "      border-left-color: var(--fill-color);\n",
              "      border-top-color: var(--fill-color);\n",
              "    }\n",
              "    30% {\n",
              "      border-color: transparent;\n",
              "      border-left-color: var(--fill-color);\n",
              "      border-top-color: var(--fill-color);\n",
              "      border-right-color: var(--fill-color);\n",
              "    }\n",
              "    40% {\n",
              "      border-color: transparent;\n",
              "      border-right-color: var(--fill-color);\n",
              "      border-top-color: var(--fill-color);\n",
              "    }\n",
              "    60% {\n",
              "      border-color: transparent;\n",
              "      border-right-color: var(--fill-color);\n",
              "    }\n",
              "    80% {\n",
              "      border-color: transparent;\n",
              "      border-right-color: var(--fill-color);\n",
              "      border-bottom-color: var(--fill-color);\n",
              "    }\n",
              "    90% {\n",
              "      border-color: transparent;\n",
              "      border-bottom-color: var(--fill-color);\n",
              "    }\n",
              "  }\n",
              "</style>\n",
              "\n",
              "  <script>\n",
              "    async function quickchart(key) {\n",
              "      const quickchartButtonEl =\n",
              "        document.querySelector('#' + key + ' button');\n",
              "      quickchartButtonEl.disabled = true;  // To prevent multiple clicks.\n",
              "      quickchartButtonEl.classList.add('colab-df-spinner');\n",
              "      try {\n",
              "        const charts = await google.colab.kernel.invokeFunction(\n",
              "            'suggestCharts', [key], {});\n",
              "      } catch (error) {\n",
              "        console.error('Error during call to suggestCharts:', error);\n",
              "      }\n",
              "      quickchartButtonEl.classList.remove('colab-df-spinner');\n",
              "      quickchartButtonEl.classList.add('colab-df-quickchart-complete');\n",
              "    }\n",
              "    (() => {\n",
              "      let quickchartButtonEl =\n",
              "        document.querySelector('#df-0a710ea2-8789-4f8f-9591-d8d4c26bab7a button');\n",
              "      quickchartButtonEl.style.display =\n",
              "        google.colab.kernel.accessAllowed ? 'block' : 'none';\n",
              "    })();\n",
              "  </script>\n",
              "</div>\n",
              "\n",
              "    </div>\n",
              "  </div>\n"
            ]
          },
          "metadata": {},
          "execution_count": 130
        }
      ],
      "source": [
        "# Create a Data Frame\n",
        "pd.DataFrame(arry)"
      ]
    },
    {
      "cell_type": "code",
      "source": [
        "# Create another DataFrame\n",
        "\n",
        "# Create an array\n",
        "numpy_array = np.array([[1, 2, 3], [4, 5, 6], [7, 8, 9]])\n",
        "\n",
        "# Define custom column and index names\n",
        "column_names = [\"A\", \"B\", \"C\"]\n",
        "index_names = [\"Row1\", \"Row2\", \"Row3\"]\n",
        "\n",
        "# Convert array to DataFrame with custom names\n",
        "data_frame = pd.DataFrame(numpy_array, columns=column_names, index=index_names)\n",
        "\n",
        "# Create the DataFrame\n",
        "data_frame"
      ],
      "metadata": {
        "colab": {
          "base_uri": "https://localhost:8080/",
          "height": 143
        },
        "id": "tTHQdxNgzK3j",
        "outputId": "ca2a1083-173b-450a-9c12-8f8f43b200a7"
      },
      "execution_count": null,
      "outputs": [
        {
          "output_type": "execute_result",
          "data": {
            "text/plain": [
              "      A  B  C\n",
              "Row1  1  2  3\n",
              "Row2  4  5  6\n",
              "Row3  7  8  9"
            ],
            "text/html": [
              "\n",
              "  <div id=\"df-badbb35f-4c85-4b28-82b3-d98dbe03b422\" class=\"colab-df-container\">\n",
              "    <div>\n",
              "<style scoped>\n",
              "    .dataframe tbody tr th:only-of-type {\n",
              "        vertical-align: middle;\n",
              "    }\n",
              "\n",
              "    .dataframe tbody tr th {\n",
              "        vertical-align: top;\n",
              "    }\n",
              "\n",
              "    .dataframe thead th {\n",
              "        text-align: right;\n",
              "    }\n",
              "</style>\n",
              "<table border=\"1\" class=\"dataframe\">\n",
              "  <thead>\n",
              "    <tr style=\"text-align: right;\">\n",
              "      <th></th>\n",
              "      <th>A</th>\n",
              "      <th>B</th>\n",
              "      <th>C</th>\n",
              "    </tr>\n",
              "  </thead>\n",
              "  <tbody>\n",
              "    <tr>\n",
              "      <th>Row1</th>\n",
              "      <td>1</td>\n",
              "      <td>2</td>\n",
              "      <td>3</td>\n",
              "    </tr>\n",
              "    <tr>\n",
              "      <th>Row2</th>\n",
              "      <td>4</td>\n",
              "      <td>5</td>\n",
              "      <td>6</td>\n",
              "    </tr>\n",
              "    <tr>\n",
              "      <th>Row3</th>\n",
              "      <td>7</td>\n",
              "      <td>8</td>\n",
              "      <td>9</td>\n",
              "    </tr>\n",
              "  </tbody>\n",
              "</table>\n",
              "</div>\n",
              "    <div class=\"colab-df-buttons\">\n",
              "\n",
              "  <div class=\"colab-df-container\">\n",
              "    <button class=\"colab-df-convert\" onclick=\"convertToInteractive('df-badbb35f-4c85-4b28-82b3-d98dbe03b422')\"\n",
              "            title=\"Convert this dataframe to an interactive table.\"\n",
              "            style=\"display:none;\">\n",
              "\n",
              "  <svg xmlns=\"http://www.w3.org/2000/svg\" height=\"24px\" viewBox=\"0 -960 960 960\">\n",
              "    <path d=\"M120-120v-720h720v720H120Zm60-500h600v-160H180v160Zm220 220h160v-160H400v160Zm0 220h160v-160H400v160ZM180-400h160v-160H180v160Zm440 0h160v-160H620v160ZM180-180h160v-160H180v160Zm440 0h160v-160H620v160Z\"/>\n",
              "  </svg>\n",
              "    </button>\n",
              "\n",
              "  <style>\n",
              "    .colab-df-container {\n",
              "      display:flex;\n",
              "      gap: 12px;\n",
              "    }\n",
              "\n",
              "    .colab-df-convert {\n",
              "      background-color: #E8F0FE;\n",
              "      border: none;\n",
              "      border-radius: 50%;\n",
              "      cursor: pointer;\n",
              "      display: none;\n",
              "      fill: #1967D2;\n",
              "      height: 32px;\n",
              "      padding: 0 0 0 0;\n",
              "      width: 32px;\n",
              "    }\n",
              "\n",
              "    .colab-df-convert:hover {\n",
              "      background-color: #E2EBFA;\n",
              "      box-shadow: 0px 1px 2px rgba(60, 64, 67, 0.3), 0px 1px 3px 1px rgba(60, 64, 67, 0.15);\n",
              "      fill: #174EA6;\n",
              "    }\n",
              "\n",
              "    .colab-df-buttons div {\n",
              "      margin-bottom: 4px;\n",
              "    }\n",
              "\n",
              "    [theme=dark] .colab-df-convert {\n",
              "      background-color: #3B4455;\n",
              "      fill: #D2E3FC;\n",
              "    }\n",
              "\n",
              "    [theme=dark] .colab-df-convert:hover {\n",
              "      background-color: #434B5C;\n",
              "      box-shadow: 0px 1px 3px 1px rgba(0, 0, 0, 0.15);\n",
              "      filter: drop-shadow(0px 1px 2px rgba(0, 0, 0, 0.3));\n",
              "      fill: #FFFFFF;\n",
              "    }\n",
              "  </style>\n",
              "\n",
              "    <script>\n",
              "      const buttonEl =\n",
              "        document.querySelector('#df-badbb35f-4c85-4b28-82b3-d98dbe03b422 button.colab-df-convert');\n",
              "      buttonEl.style.display =\n",
              "        google.colab.kernel.accessAllowed ? 'block' : 'none';\n",
              "\n",
              "      async function convertToInteractive(key) {\n",
              "        const element = document.querySelector('#df-badbb35f-4c85-4b28-82b3-d98dbe03b422');\n",
              "        const dataTable =\n",
              "          await google.colab.kernel.invokeFunction('convertToInteractive',\n",
              "                                                    [key], {});\n",
              "        if (!dataTable) return;\n",
              "\n",
              "        const docLinkHtml = 'Like what you see? Visit the ' +\n",
              "          '<a target=\"_blank\" href=https://colab.research.google.com/notebooks/data_table.ipynb>data table notebook</a>'\n",
              "          + ' to learn more about interactive tables.';\n",
              "        element.innerHTML = '';\n",
              "        dataTable['output_type'] = 'display_data';\n",
              "        await google.colab.output.renderOutput(dataTable, element);\n",
              "        const docLink = document.createElement('div');\n",
              "        docLink.innerHTML = docLinkHtml;\n",
              "        element.appendChild(docLink);\n",
              "      }\n",
              "    </script>\n",
              "  </div>\n",
              "\n",
              "\n",
              "<div id=\"df-1350552b-ab23-4805-8042-482962568c89\">\n",
              "  <button class=\"colab-df-quickchart\" onclick=\"quickchart('df-1350552b-ab23-4805-8042-482962568c89')\"\n",
              "            title=\"Suggest charts\"\n",
              "            style=\"display:none;\">\n",
              "\n",
              "<svg xmlns=\"http://www.w3.org/2000/svg\" height=\"24px\"viewBox=\"0 0 24 24\"\n",
              "     width=\"24px\">\n",
              "    <g>\n",
              "        <path d=\"M19 3H5c-1.1 0-2 .9-2 2v14c0 1.1.9 2 2 2h14c1.1 0 2-.9 2-2V5c0-1.1-.9-2-2-2zM9 17H7v-7h2v7zm4 0h-2V7h2v10zm4 0h-2v-4h2v4z\"/>\n",
              "    </g>\n",
              "</svg>\n",
              "  </button>\n",
              "\n",
              "<style>\n",
              "  .colab-df-quickchart {\n",
              "      --bg-color: #E8F0FE;\n",
              "      --fill-color: #1967D2;\n",
              "      --hover-bg-color: #E2EBFA;\n",
              "      --hover-fill-color: #174EA6;\n",
              "      --disabled-fill-color: #AAA;\n",
              "      --disabled-bg-color: #DDD;\n",
              "  }\n",
              "\n",
              "  [theme=dark] .colab-df-quickchart {\n",
              "      --bg-color: #3B4455;\n",
              "      --fill-color: #D2E3FC;\n",
              "      --hover-bg-color: #434B5C;\n",
              "      --hover-fill-color: #FFFFFF;\n",
              "      --disabled-bg-color: #3B4455;\n",
              "      --disabled-fill-color: #666;\n",
              "  }\n",
              "\n",
              "  .colab-df-quickchart {\n",
              "    background-color: var(--bg-color);\n",
              "    border: none;\n",
              "    border-radius: 50%;\n",
              "    cursor: pointer;\n",
              "    display: none;\n",
              "    fill: var(--fill-color);\n",
              "    height: 32px;\n",
              "    padding: 0;\n",
              "    width: 32px;\n",
              "  }\n",
              "\n",
              "  .colab-df-quickchart:hover {\n",
              "    background-color: var(--hover-bg-color);\n",
              "    box-shadow: 0 1px 2px rgba(60, 64, 67, 0.3), 0 1px 3px 1px rgba(60, 64, 67, 0.15);\n",
              "    fill: var(--button-hover-fill-color);\n",
              "  }\n",
              "\n",
              "  .colab-df-quickchart-complete:disabled,\n",
              "  .colab-df-quickchart-complete:disabled:hover {\n",
              "    background-color: var(--disabled-bg-color);\n",
              "    fill: var(--disabled-fill-color);\n",
              "    box-shadow: none;\n",
              "  }\n",
              "\n",
              "  .colab-df-spinner {\n",
              "    border: 2px solid var(--fill-color);\n",
              "    border-color: transparent;\n",
              "    border-bottom-color: var(--fill-color);\n",
              "    animation:\n",
              "      spin 1s steps(1) infinite;\n",
              "  }\n",
              "\n",
              "  @keyframes spin {\n",
              "    0% {\n",
              "      border-color: transparent;\n",
              "      border-bottom-color: var(--fill-color);\n",
              "      border-left-color: var(--fill-color);\n",
              "    }\n",
              "    20% {\n",
              "      border-color: transparent;\n",
              "      border-left-color: var(--fill-color);\n",
              "      border-top-color: var(--fill-color);\n",
              "    }\n",
              "    30% {\n",
              "      border-color: transparent;\n",
              "      border-left-color: var(--fill-color);\n",
              "      border-top-color: var(--fill-color);\n",
              "      border-right-color: var(--fill-color);\n",
              "    }\n",
              "    40% {\n",
              "      border-color: transparent;\n",
              "      border-right-color: var(--fill-color);\n",
              "      border-top-color: var(--fill-color);\n",
              "    }\n",
              "    60% {\n",
              "      border-color: transparent;\n",
              "      border-right-color: var(--fill-color);\n",
              "    }\n",
              "    80% {\n",
              "      border-color: transparent;\n",
              "      border-right-color: var(--fill-color);\n",
              "      border-bottom-color: var(--fill-color);\n",
              "    }\n",
              "    90% {\n",
              "      border-color: transparent;\n",
              "      border-bottom-color: var(--fill-color);\n",
              "    }\n",
              "  }\n",
              "</style>\n",
              "\n",
              "  <script>\n",
              "    async function quickchart(key) {\n",
              "      const quickchartButtonEl =\n",
              "        document.querySelector('#' + key + ' button');\n",
              "      quickchartButtonEl.disabled = true;  // To prevent multiple clicks.\n",
              "      quickchartButtonEl.classList.add('colab-df-spinner');\n",
              "      try {\n",
              "        const charts = await google.colab.kernel.invokeFunction(\n",
              "            'suggestCharts', [key], {});\n",
              "      } catch (error) {\n",
              "        console.error('Error during call to suggestCharts:', error);\n",
              "      }\n",
              "      quickchartButtonEl.classList.remove('colab-df-spinner');\n",
              "      quickchartButtonEl.classList.add('colab-df-quickchart-complete');\n",
              "    }\n",
              "    (() => {\n",
              "      let quickchartButtonEl =\n",
              "        document.querySelector('#df-1350552b-ab23-4805-8042-482962568c89 button');\n",
              "      quickchartButtonEl.style.display =\n",
              "        google.colab.kernel.accessAllowed ? 'block' : 'none';\n",
              "    })();\n",
              "  </script>\n",
              "</div>\n",
              "\n",
              "  <div id=\"id_bc8862d9-85e4-41f9-868a-2e98a07148f4\">\n",
              "    <style>\n",
              "      .colab-df-generate {\n",
              "        background-color: #E8F0FE;\n",
              "        border: none;\n",
              "        border-radius: 50%;\n",
              "        cursor: pointer;\n",
              "        display: none;\n",
              "        fill: #1967D2;\n",
              "        height: 32px;\n",
              "        padding: 0 0 0 0;\n",
              "        width: 32px;\n",
              "      }\n",
              "\n",
              "      .colab-df-generate:hover {\n",
              "        background-color: #E2EBFA;\n",
              "        box-shadow: 0px 1px 2px rgba(60, 64, 67, 0.3), 0px 1px 3px 1px rgba(60, 64, 67, 0.15);\n",
              "        fill: #174EA6;\n",
              "      }\n",
              "\n",
              "      [theme=dark] .colab-df-generate {\n",
              "        background-color: #3B4455;\n",
              "        fill: #D2E3FC;\n",
              "      }\n",
              "\n",
              "      [theme=dark] .colab-df-generate:hover {\n",
              "        background-color: #434B5C;\n",
              "        box-shadow: 0px 1px 3px 1px rgba(0, 0, 0, 0.15);\n",
              "        filter: drop-shadow(0px 1px 2px rgba(0, 0, 0, 0.3));\n",
              "        fill: #FFFFFF;\n",
              "      }\n",
              "    </style>\n",
              "    <button class=\"colab-df-generate\" onclick=\"generateWithVariable('data_frame')\"\n",
              "            title=\"Generate code using this dataframe.\"\n",
              "            style=\"display:none;\">\n",
              "\n",
              "  <svg xmlns=\"http://www.w3.org/2000/svg\" height=\"24px\"viewBox=\"0 0 24 24\"\n",
              "       width=\"24px\">\n",
              "    <path d=\"M7,19H8.4L18.45,9,17,7.55,7,17.6ZM5,21V16.75L18.45,3.32a2,2,0,0,1,2.83,0l1.4,1.43a1.91,1.91,0,0,1,.58,1.4,1.91,1.91,0,0,1-.58,1.4L9.25,21ZM18.45,9,17,7.55Zm-12,3A5.31,5.31,0,0,0,4.9,8.1,5.31,5.31,0,0,0,1,6.5,5.31,5.31,0,0,0,4.9,4.9,5.31,5.31,0,0,0,6.5,1,5.31,5.31,0,0,0,8.1,4.9,5.31,5.31,0,0,0,12,6.5,5.46,5.46,0,0,0,6.5,12Z\"/>\n",
              "  </svg>\n",
              "    </button>\n",
              "    <script>\n",
              "      (() => {\n",
              "      const buttonEl =\n",
              "        document.querySelector('#id_bc8862d9-85e4-41f9-868a-2e98a07148f4 button.colab-df-generate');\n",
              "      buttonEl.style.display =\n",
              "        google.colab.kernel.accessAllowed ? 'block' : 'none';\n",
              "\n",
              "      buttonEl.onclick = () => {\n",
              "        google.colab.notebook.generateWithVariable('data_frame');\n",
              "      }\n",
              "      })();\n",
              "    </script>\n",
              "  </div>\n",
              "\n",
              "    </div>\n",
              "  </div>\n"
            ]
          },
          "metadata": {},
          "execution_count": 131
        }
      ]
    },
    {
      "cell_type": "markdown",
      "metadata": {
        "id": "A96CteixMN-E"
      },
      "source": [
        "Plotting Arrays using Matplotlib"
      ]
    },
    {
      "cell_type": "code",
      "execution_count": null,
      "metadata": {
        "id": "iLRHUwcBMlAm",
        "colab": {
          "base_uri": "https://localhost:8080/"
        },
        "outputId": "4b751189-b860-493d-8409-a3df4b315e94"
      },
      "outputs": [
        {
          "output_type": "execute_result",
          "data": {
            "text/plain": [
              "array([97, 76, 31, 75, 62, 35, 58, 25, 89, 56,  6, 27, 39, 86, 61])"
            ]
          },
          "metadata": {},
          "execution_count": 132
        }
      ],
      "source": [
        "# Create an array\n",
        "a = np.random.randint(1,100,15)\n",
        "\n",
        "# Print the array\n",
        "a"
      ]
    },
    {
      "cell_type": "code",
      "execution_count": null,
      "metadata": {
        "colab": {
          "base_uri": "https://localhost:8080/",
          "height": 451
        },
        "id": "RKEfw8GuMyJo",
        "outputId": "dc3bf6cc-826c-408c-a240-eff15cd7df73"
      },
      "outputs": [
        {
          "data": {
            "text/plain": [
              "[<matplotlib.lines.Line2D at 0x7c7f2827dde0>]"
            ]
          },
          "execution_count": 256,
          "metadata": {},
          "output_type": "execute_result"
        },
        {
          "data": {
            "image/png": "[encoded data removed]",
            "text/plain": [
              "<Figure size 640x480 with 1 Axes>"
            ]
          },
          "metadata": {},
          "output_type": "display_data"
        }
      ],
      "source": [
        "# Plotting the array\n",
        "plt.plot(a)"
      ]
    },
    {
      "cell_type": "code",
      "execution_count": null,
      "metadata": {
        "colab": {
          "base_uri": "https://localhost:8080/",
          "height": 448
        },
        "id": "ybXKmif4NKAX",
        "outputId": "0358e844-425e-4e2e-8c1d-72a64f53c665"
      },
      "outputs": [
        {
          "output_type": "execute_result",
          "data": {
            "text/plain": [
              "[<matplotlib.lines.Line2D at 0x7f151fb7d8d0>]"
            ]
          },
          "metadata": {},
          "execution_count": 133
        },
        {
          "output_type": "display_data",
          "data": {
            "text/plain": [
              "<Figure size 640x480 with 1 Axes>"
            ],
            "image/png": "[encoded data removed]"
          },
          "metadata": {}
        }
      ],
      "source": [
        "# Create another plot\n",
        "\n",
        "# Generate data for plotting\n",
        "b = np.linspace(0, 2, 8)\n",
        "c = np.linspace(0, 4, 8)\n",
        "\n",
        "# Plot the figure\n",
        "plt.plot(b, c, 'green')\n",
        "plt.plot(b,c, 'x')"
      ]
    }
  ],
  "metadata": {
    "colab": {
      "provenance": [],
      "authorship_tag": "ABX9TyMpaqaPNhxmqpzv5tz7IYko",
      "include_colab_link": true
    },
    "kernelspec": {
      "display_name": "Python 3",
      "name": "python3"
    },
    "language_info": {
      "name": "python"
    }
  },
  "nbformat": 4,
  "nbformat_minor": 0
}