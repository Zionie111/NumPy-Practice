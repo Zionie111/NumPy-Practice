{
  "nbformat": 4,
  "nbformat_minor": 0,
  "metadata": {
    "colab": {
      "provenance": [],
      "authorship_tag": "ABX9TyNRS+X5tJ7R8QflwXsgTGN3",
      "include_colab_link": true
    },
    "kernelspec": {
      "name": "python3",
      "display_name": "Python 3"
    },
    "language_info": {
      "name": "python"
    }
  },
  "cells": [
    {
      "cell_type": "markdown",
      "metadata": {
        "id": "view-in-github",
        "colab_type": "text"
      },
      "source": [
        "<a href=\"https://colab.research.google.com/github/Zionie111/NumPy-Practice/blob/main/numpypractice.ipynb\" target=\"_parent\"><img src=\"https://colab.research.google.com/assets/colab-badge.svg\" alt=\"Open In Colab\"/></a>"
      ]
    },
    {
      "cell_type": "code",
      "execution_count": null,
      "metadata": {
        "id": "FZHOKEPUoq7F"
      },
      "outputs": [],
      "source": [
        "# NumPy is a universal library for working with numerical data in python\n",
        "import numpy as np"
      ]
    },
    {
      "cell_type": "code",
      "source": [
        "import matplotlib.pyplot as plt\n",
        "import pandas as pd"
      ],
      "metadata": {
        "id": "D4kJkIQ8Ow99"
      },
      "execution_count": null,
      "outputs": []
    },
    {
      "cell_type": "markdown",
      "source": [
        "NumPy library contain:\n",
        "Multidimensional array(Ayyay contains items of same size and shape) and\n",
        "Matrix data structures"
      ],
      "metadata": {
        "id": "yncgn5kTuA8-"
      }
    },
    {
      "cell_type": "code",
      "source": [
        "# Example of 1D Array\n",
        "a = np.array([7, 5, 6, 3, 2, 1])"
      ],
      "metadata": {
        "id": "ihAJtTEmroDR"
      },
      "execution_count": null,
      "outputs": []
    },
    {
      "cell_type": "code",
      "source": [
        "a"
      ],
      "metadata": {
        "colab": {
          "base_uri": "https://localhost:8080/"
        },
        "id": "3rgu3BFksLW6",
        "outputId": "08fdb9d6-a68e-42ba-8e48-9c5d87d4b8f7"
      },
      "execution_count": null,
      "outputs": [
        {
          "output_type": "execute_result",
          "data": {
            "text/plain": [
              "array([7, 5, 6, 3, 2, 1])"
            ]
          },
          "metadata": {},
          "execution_count": 5
        }
      ]
    },
    {
      "cell_type": "code",
      "source": [
        "a.shape"
      ],
      "metadata": {
        "colab": {
          "base_uri": "https://localhost:8080/"
        },
        "id": "PgHt0m9OsZAt",
        "outputId": "e4e45480-7981-4642-a4e9-3530c388394a"
      },
      "execution_count": null,
      "outputs": [
        {
          "output_type": "execute_result",
          "data": {
            "text/plain": [
              "(6,)"
            ]
          },
          "metadata": {},
          "execution_count": 6
        }
      ]
    },
    {
      "cell_type": "code",
      "source": [
        "a.itemsize"
      ],
      "metadata": {
        "colab": {
          "base_uri": "https://localhost:8080/"
        },
        "id": "HFg2HFNjscy1",
        "outputId": "6bd7838f-df39-4938-90d0-f937de84a9be"
      },
      "execution_count": null,
      "outputs": [
        {
          "output_type": "execute_result",
          "data": {
            "text/plain": [
              "8"
            ]
          },
          "metadata": {},
          "execution_count": 7
        }
      ]
    },
    {
      "cell_type": "code",
      "source": [
        "#  2D array\n",
        "b = np.array([[1, 2, 3, 4], [9, 10, 11, 12]])"
      ],
      "metadata": {
        "id": "vMMDQNukskzY"
      },
      "execution_count": null,
      "outputs": []
    },
    {
      "cell_type": "code",
      "source": [
        "b"
      ],
      "metadata": {
        "colab": {
          "base_uri": "https://localhost:8080/"
        },
        "id": "5qyecMNzsrTp",
        "outputId": "e02602f4-5ada-4af9-87fe-72a82af18f2c"
      },
      "execution_count": null,
      "outputs": [
        {
          "output_type": "execute_result",
          "data": {
            "text/plain": [
              "array([[ 1,  2,  3,  4],\n",
              "       [ 9, 10, 11, 12]])"
            ]
          },
          "metadata": {},
          "execution_count": 12
        }
      ]
    },
    {
      "cell_type": "code",
      "source": [
        "b.shape"
      ],
      "metadata": {
        "colab": {
          "base_uri": "https://localhost:8080/"
        },
        "id": "JlSJQGT_tBA_",
        "outputId": "ab60cf46-3170-4855-c8dc-3ef140d1ea9c"
      },
      "execution_count": null,
      "outputs": [
        {
          "output_type": "execute_result",
          "data": {
            "text/plain": [
              "(2, 4)"
            ]
          },
          "metadata": {},
          "execution_count": 13
        }
      ]
    },
    {
      "cell_type": "code",
      "source": [
        "# Examples of ndarray(short form of N-Dimensional Array)\n",
        "# 3D Array\n",
        "c = np.array([[1, 2, 3, 4],[3,5,4,8], [9, 10, 11, 12]])"
      ],
      "metadata": {
        "id": "9vBPYpunv9M7"
      },
      "execution_count": null,
      "outputs": []
    },
    {
      "cell_type": "code",
      "source": [
        "c"
      ],
      "metadata": {
        "colab": {
          "base_uri": "https://localhost:8080/"
        },
        "id": "mpIH28B5yMYG",
        "outputId": "869ecb74-b487-446c-f222-c532d6147741"
      },
      "execution_count": null,
      "outputs": [
        {
          "output_type": "execute_result",
          "data": {
            "text/plain": [
              "array([[ 1,  2,  3,  4],\n",
              "       [ 3,  5,  4,  8],\n",
              "       [ 9, 10, 11, 12]])"
            ]
          },
          "metadata": {},
          "execution_count": 15
        }
      ]
    },
    {
      "cell_type": "code",
      "source": [
        "c.shape"
      ],
      "metadata": {
        "colab": {
          "base_uri": "https://localhost:8080/"
        },
        "id": "YZktw2-eyOgO",
        "outputId": "cd23d779-ef26-4319-eee1-33e825855d05"
      },
      "execution_count": null,
      "outputs": [
        {
          "output_type": "execute_result",
          "data": {
            "text/plain": [
              "(3, 4)"
            ]
          },
          "metadata": {},
          "execution_count": 16
        }
      ]
    },
    {
      "cell_type": "code",
      "source": [
        "# Arrays can also be created from a sequence of elements])\n",
        "# create an array of zeros\n",
        "np.zeros(7)"
      ],
      "metadata": {
        "colab": {
          "base_uri": "https://localhost:8080/"
        },
        "id": "3aOgvgZayvB5",
        "outputId": "1af583c2-b35d-44f9-b8be-28720b1c15c2"
      },
      "execution_count": null,
      "outputs": [
        {
          "output_type": "execute_result",
          "data": {
            "text/plain": [
              "array([0., 0., 0., 0., 0., 0., 0.])"
            ]
          },
          "metadata": {},
          "execution_count": 24
        }
      ]
    },
    {
      "cell_type": "code",
      "source": [
        "# Create an Array of Ones with a specific data type\n",
        "np.ones(7,dtype=np.int64)"
      ],
      "metadata": {
        "colab": {
          "base_uri": "https://localhost:8080/"
        },
        "id": "XrBmeZQjz9-F",
        "outputId": "1b8a7e71-9772-4d9a-e962-b6f5e2ed932e"
      },
      "execution_count": null,
      "outputs": [
        {
          "output_type": "execute_result",
          "data": {
            "text/plain": [
              "array([1, 1, 1, 1, 1, 1, 1])"
            ]
          },
          "metadata": {},
          "execution_count": 31
        }
      ]
    },
    {
      "cell_type": "code",
      "source": [
        "# Create an empty array with 2 elements.\n",
        "np.empty(2)"
      ],
      "metadata": {
        "colab": {
          "base_uri": "https://localhost:8080/"
        },
        "id": "tslXngqj0Mf2",
        "outputId": "f7d453dd-fa42-4f00-9944-9d8aaebbbeba"
      },
      "execution_count": null,
      "outputs": [
        {
          "output_type": "execute_result",
          "data": {
            "text/plain": [
              "array([-2.00000000e+000,  6.76310447e-310])"
            ]
          },
          "metadata": {},
          "execution_count": 27
        }
      ]
    },
    {
      "cell_type": "code",
      "source": [
        "# Create an array from a range\n",
        "np.arange(7,20,2,dtype=np.int32)"
      ],
      "metadata": {
        "colab": {
          "base_uri": "https://localhost:8080/"
        },
        "id": "hATfWouC0pd9",
        "outputId": "224a8866-095a-4ab5-e7fd-92802bba313b"
      },
      "execution_count": null,
      "outputs": [
        {
          "output_type": "execute_result",
          "data": {
            "text/plain": [
              "array([ 7,  9, 11, 13, 15, 17, 19], dtype=int32)"
            ]
          },
          "metadata": {},
          "execution_count": 32
        }
      ]
    },
    {
      "cell_type": "markdown",
      "source": [
        "Sorting elements in Arrays"
      ],
      "metadata": {
        "id": "pfTrSe5S1wpC"
      }
    },
    {
      "cell_type": "code",
      "source": [
        "# Create an array of 10 random integers.\n",
        "data = np.random.randint(1,100,10)"
      ],
      "metadata": {
        "id": "x1URln_-_1bR"
      },
      "execution_count": null,
      "outputs": []
    },
    {
      "cell_type": "code",
      "source": [
        "data"
      ],
      "metadata": {
        "colab": {
          "base_uri": "https://localhost:8080/"
        },
        "id": "zvL2gL-eAvn0",
        "outputId": "79a81078-61aa-4bfb-e562-9d83fef7467e"
      },
      "execution_count": null,
      "outputs": [
        {
          "output_type": "execute_result",
          "data": {
            "text/plain": [
              "array([35, 71, 80, 74, 60, 41, 72, 79, 33, 96])"
            ]
          },
          "metadata": {},
          "execution_count": 44
        }
      ]
    },
    {
      "cell_type": "code",
      "source": [
        "# Quicksort which gives ascending order\n",
        "np.sort(data)"
      ],
      "metadata": {
        "colab": {
          "base_uri": "https://localhost:8080/"
        },
        "id": "08AQmrW22LLx",
        "outputId": "64819284-7d26-468a-8ee0-1b534db09dd6"
      },
      "execution_count": null,
      "outputs": [
        {
          "output_type": "execute_result",
          "data": {
            "text/plain": [
              "array([33, 35, 41, 60, 71, 72, 74, 79, 80, 96])"
            ]
          },
          "metadata": {},
          "execution_count": 45
        }
      ]
    },
    {
      "cell_type": "markdown",
      "source": [
        "Sorting can also be done along the rows and columns"
      ],
      "metadata": {
        "id": "vm8Z6ATLBgGj"
      }
    },
    {
      "cell_type": "code",
      "source": [
        "# Create a 2D array\n",
        "data_2d = np.random.randint(1,100,(3,4))"
      ],
      "metadata": {
        "id": "Kb8hd0eb_out"
      },
      "execution_count": null,
      "outputs": []
    },
    {
      "cell_type": "code",
      "source": [
        "# Printing the array\n",
        "data_2d"
      ],
      "metadata": {
        "colab": {
          "base_uri": "https://localhost:8080/"
        },
        "id": "X3sL7RDXB6WR",
        "outputId": "24b31b75-1cb9-43a3-bad4-79da6abfc7ef"
      },
      "execution_count": null,
      "outputs": [
        {
          "output_type": "execute_result",
          "data": {
            "text/plain": [
              "array([[57, 31, 41, 53],\n",
              "       [96, 19, 44, 36],\n",
              "       [20,  2, 10, 69]])"
            ]
          },
          "metadata": {},
          "execution_count": 56
        }
      ]
    },
    {
      "cell_type": "code",
      "source": [
        "# Sort along the rows\n",
        "np.sort(data_2d, axis=1)"
      ],
      "metadata": {
        "colab": {
          "base_uri": "https://localhost:8080/"
        },
        "id": "pWKLMo8fCgcb",
        "outputId": "a48478ac-d2b8-4642-e3ca-4c803891509e"
      },
      "execution_count": null,
      "outputs": [
        {
          "output_type": "execute_result",
          "data": {
            "text/plain": [
              "array([[31, 41, 53, 57],\n",
              "       [19, 36, 44, 96],\n",
              "       [ 2, 10, 20, 69]])"
            ]
          },
          "metadata": {},
          "execution_count": 60
        }
      ]
    },
    {
      "cell_type": "code",
      "source": [
        "# Sort along the columns\n",
        "np.sort(data_2d, axis=0)"
      ],
      "metadata": {
        "colab": {
          "base_uri": "https://localhost:8080/"
        },
        "id": "t8U8qIedDJ5r",
        "outputId": "20c3260f-bfab-486d-9101-d46cd7c632ee"
      },
      "execution_count": null,
      "outputs": [
        {
          "output_type": "execute_result",
          "data": {
            "text/plain": [
              "array([[20,  2, 10, 36],\n",
              "       [57, 19, 41, 53],\n",
              "       [96, 31, 44, 69]])"
            ]
          },
          "metadata": {},
          "execution_count": 59
        }
      ]
    },
    {
      "cell_type": "markdown",
      "source": [
        "Sorting Along Axes in Higher-Dimensional Arrays"
      ],
      "metadata": {
        "id": "hvq-G331FLay"
      }
    },
    {
      "cell_type": "code",
      "source": [
        "# Create a 3D array\n",
        "data_3d = np.random.randint(1, 100, (3, 3, 3))"
      ],
      "metadata": {
        "id": "5lUSiJKWFQ8V"
      },
      "execution_count": null,
      "outputs": []
    },
    {
      "cell_type": "code",
      "source": [
        "# Printing Original Array\n",
        "data_3d"
      ],
      "metadata": {
        "colab": {
          "base_uri": "https://localhost:8080/"
        },
        "id": "IWBSATQODCWX",
        "outputId": "1bdc1927-3807-4518-b003-adaa11611002"
      },
      "execution_count": null,
      "outputs": [
        {
          "output_type": "execute_result",
          "data": {
            "text/plain": [
              "array([[[13,  6, 56],\n",
              "        [56, 84, 57],\n",
              "        [87, 19, 55]],\n",
              "\n",
              "       [[99,  9,  6],\n",
              "        [ 4,  7, 14],\n",
              "        [26, 81, 81]],\n",
              "\n",
              "       [[87,  5, 14],\n",
              "        [90, 94, 69],\n",
              "        [22, 80, 19]]])"
            ]
          },
          "metadata": {},
          "execution_count": 64
        }
      ]
    },
    {
      "cell_type": "code",
      "source": [
        "# Sort along the second axis (rows within each 2D arrays)\n",
        "np.sort(data_3d, axis=1)"
      ],
      "metadata": {
        "colab": {
          "base_uri": "https://localhost:8080/"
        },
        "id": "A4oGGibUFqo2",
        "outputId": "a7b45a0d-719c-40a0-8054-1302312cb1ac"
      },
      "execution_count": null,
      "outputs": [
        {
          "output_type": "execute_result",
          "data": {
            "text/plain": [
              "array([[[13,  5,  6],\n",
              "        [ 4,  7, 14],\n",
              "        [22, 19, 19]],\n",
              "\n",
              "       [[87,  6, 14],\n",
              "        [56, 84, 57],\n",
              "        [26, 80, 55]],\n",
              "\n",
              "       [[99,  9, 56],\n",
              "        [90, 94, 69],\n",
              "        [87, 81, 81]]])"
            ]
          },
          "metadata": {},
          "execution_count": 67
        }
      ]
    },
    {
      "cell_type": "code",
      "source": [
        "# Sort along the third axis (columns within each 2D arrays)\n",
        "np.sort(data_3d, axis=2)"
      ],
      "metadata": {
        "colab": {
          "base_uri": "https://localhost:8080/"
        },
        "id": "-A9g-ikcLoLJ",
        "outputId": "0195a8e3-9a88-4faf-a51e-e9d8e4c33087"
      },
      "execution_count": null,
      "outputs": [
        {
          "output_type": "execute_result",
          "data": {
            "text/plain": [
              "array([[[ 6, 13, 56],\n",
              "        [56, 57, 84],\n",
              "        [19, 55, 87]],\n",
              "\n",
              "       [[ 6,  9, 99],\n",
              "        [ 4,  7, 14],\n",
              "        [26, 81, 81]],\n",
              "\n",
              "       [[ 5, 14, 87],\n",
              "        [69, 90, 94],\n",
              "        [19, 22, 80]]])"
            ]
          },
          "metadata": {},
          "execution_count": 68
        }
      ]
    },
    {
      "cell_type": "code",
      "source": [
        "# Sort along multiple axes using lexsort for lexicographical order\n",
        "# Sort by first column, then third\n",
        "np.lexsort([data_3d[:, :,0], data_3d[:, :, 2]])"
      ],
      "metadata": {
        "colab": {
          "base_uri": "https://localhost:8080/"
        },
        "id": "TjSoqd7vMQ8C",
        "outputId": "c38265c1-ac85-437a-eb75-86407e0b1fc3"
      },
      "execution_count": null,
      "outputs": [
        {
          "output_type": "execute_result",
          "data": {
            "text/plain": [
              "array([[2, 0, 1],\n",
              "       [0, 1, 2],\n",
              "       [0, 2, 1]])"
            ]
          },
          "metadata": {},
          "execution_count": 69
        }
      ]
    },
    {
      "cell_type": "markdown",
      "source": [
        "Concatenation: Combines arrays into larger arrays. It takes a tuple or a list of arrays and an axis argument. axis=0 for rows and axis=1 for columns"
      ],
      "metadata": {
        "id": "TWkSihZVqqUo"
      }
    },
    {
      "cell_type": "code",
      "source": [
        "# Simple Concatenation\n",
        "a = np.array([10,12,13,14])\n",
        "b = np.array([5,6,7,8,])"
      ],
      "metadata": {
        "id": "iGFOEgO80ZFU"
      },
      "execution_count": null,
      "outputs": []
    },
    {
      "cell_type": "code",
      "source": [
        "np.concatenate((a,b))"
      ],
      "metadata": {
        "colab": {
          "base_uri": "https://localhost:8080/"
        },
        "id": "SqtgWwQJ0osI",
        "outputId": "9838476e-9b82-4626-d401-f27c706f8252"
      },
      "execution_count": null,
      "outputs": [
        {
          "output_type": "execute_result",
          "data": {
            "text/plain": [
              "array([10, 12, 13, 14,  5,  6,  7,  8])"
            ]
          },
          "metadata": {},
          "execution_count": 89
        }
      ]
    },
    {
      "cell_type": "code",
      "source": [
        "# Other Ways of Concatenation\n",
        "arr1 = np.array([[2,3,4,5],[6,7,8,9],[10,11,12,13]])\n",
        "arr2 = np.array([[1,2,3,4],[5,6,7,8],[9,10,11,12]])"
      ],
      "metadata": {
        "id": "87VefWjhuQMC"
      },
      "execution_count": null,
      "outputs": []
    },
    {
      "cell_type": "code",
      "source": [
        "# Simple Concatenation of arr1 and arr2\n",
        "np.concatenate([arr1,arr2])"
      ],
      "metadata": {
        "colab": {
          "base_uri": "https://localhost:8080/"
        },
        "id": "1VxbXfNezd8D",
        "outputId": "2673ef4f-35cc-44c5-abee-3a669a05a4c1"
      },
      "execution_count": null,
      "outputs": [
        {
          "output_type": "execute_result",
          "data": {
            "text/plain": [
              "array([[ 2,  3,  4,  5],\n",
              "       [ 6,  7,  8,  9],\n",
              "       [10, 11, 12, 13],\n",
              "       [ 1,  2,  3,  4],\n",
              "       [ 5,  6,  7,  8],\n",
              "       [ 9, 10, 11, 12]])"
            ]
          },
          "metadata": {},
          "execution_count": 87
        }
      ]
    },
    {
      "cell_type": "code",
      "source": [
        "#  Concatenate vertically (stack rows)\n",
        "np.concatenate((arr1,arr2), axis=1)"
      ],
      "metadata": {
        "colab": {
          "base_uri": "https://localhost:8080/"
        },
        "id": "YH2CZtEaxv41",
        "outputId": "ca374915-266b-446c-e3e0-0c1e40d9b374"
      },
      "execution_count": null,
      "outputs": [
        {
          "output_type": "execute_result",
          "data": {
            "text/plain": [
              "array([[ 2,  3,  4,  5,  1,  2,  3,  4],\n",
              "       [ 6,  7,  8,  9,  5,  6,  7,  8],\n",
              "       [10, 11, 12, 13,  9, 10, 11, 12]])"
            ]
          },
          "metadata": {},
          "execution_count": 76
        }
      ]
    },
    {
      "cell_type": "code",
      "source": [
        "# Concatenate horizontally (append columns)\n",
        "np.concatenate((arr1,arr2), axis=0)"
      ],
      "metadata": {
        "colab": {
          "base_uri": "https://localhost:8080/"
        },
        "id": "tJyNblNXyaF_",
        "outputId": "1e1bca44-b233-4513-ca1d-ac399d762f0f"
      },
      "execution_count": null,
      "outputs": [
        {
          "output_type": "execute_result",
          "data": {
            "text/plain": [
              "array([[ 2,  3,  4,  5],\n",
              "       [ 6,  7,  8,  9],\n",
              "       [10, 11, 12, 13],\n",
              "       [ 1,  2,  3,  4],\n",
              "       [ 5,  6,  7,  8],\n",
              "       [ 9, 10, 11, 12]])"
            ]
          },
          "metadata": {},
          "execution_count": 77
        }
      ]
    },
    {
      "cell_type": "code",
      "source": [
        "# Concatenate arr1 and arr2 with and Extra Dimension\n",
        "np.concatenate([[arr1,arr2]])"
      ],
      "metadata": {
        "colab": {
          "base_uri": "https://localhost:8080/"
        },
        "id": "1qF64dQ4yfgi",
        "outputId": "b0724caa-0110-4235-cc7e-12deb77629db"
      },
      "execution_count": null,
      "outputs": [
        {
          "output_type": "execute_result",
          "data": {
            "text/plain": [
              "array([[[ 2,  3,  4,  5],\n",
              "        [ 6,  7,  8,  9],\n",
              "        [10, 11, 12, 13]],\n",
              "\n",
              "       [[ 1,  2,  3,  4],\n",
              "        [ 5,  6,  7,  8],\n",
              "        [ 9, 10, 11, 12]]])"
            ]
          },
          "metadata": {},
          "execution_count": 81
        }
      ]
    },
    {
      "cell_type": "markdown",
      "source": [
        "How to Know Shape and Size of Array"
      ],
      "metadata": {
        "id": "-BKkau8x3-ds"
      }
    },
    {
      "cell_type": "code",
      "source": [
        "array_123 = np.random.randint(1,100,(5,6,5))"
      ],
      "metadata": {
        "id": "0H9fVXL3392N"
      },
      "execution_count": null,
      "outputs": []
    },
    {
      "cell_type": "code",
      "source": [
        "# Print the Array\n",
        "array_123"
      ],
      "metadata": {
        "colab": {
          "base_uri": "https://localhost:8080/"
        },
        "id": "5FwSNLWR5Lz4",
        "outputId": "adbda7ac-bb38-477b-c38d-603a224cdc1d"
      },
      "execution_count": null,
      "outputs": [
        {
          "output_type": "execute_result",
          "data": {
            "text/plain": [
              "array([[[75, 27, 69, 46, 46],\n",
              "        [24, 74, 91, 95, 77],\n",
              "        [54, 67, 46, 97, 40],\n",
              "        [66, 32, 77, 15, 65],\n",
              "        [54,  1, 61,  9, 68],\n",
              "        [ 1, 59, 89, 54,  3]],\n",
              "\n",
              "       [[84, 69, 20, 90, 24],\n",
              "        [45, 51, 80,  4, 98],\n",
              "        [84, 19, 95, 60, 48],\n",
              "        [51, 69, 98, 17, 40],\n",
              "        [97, 82, 61, 84,  2],\n",
              "        [86, 89, 99, 53, 53]],\n",
              "\n",
              "       [[74, 38, 13,  6, 49],\n",
              "        [67, 37, 51, 66, 34],\n",
              "        [79, 41, 73, 11, 68],\n",
              "        [52, 67, 87, 21, 85],\n",
              "        [ 5, 13, 96, 16, 30],\n",
              "        [27, 57,  2, 69, 45]],\n",
              "\n",
              "       [[58, 56, 99, 67, 83],\n",
              "        [35,  7, 93, 74, 84],\n",
              "        [14, 83, 89, 48, 88],\n",
              "        [63, 95, 40, 13, 24],\n",
              "        [32, 20, 43, 95, 29],\n",
              "        [29, 77, 50, 40, 97]],\n",
              "\n",
              "       [[25, 78, 40, 32, 85],\n",
              "        [58, 22, 67, 51, 65],\n",
              "        [41, 33, 72, 47, 93],\n",
              "        [45, 15, 54, 15, 36],\n",
              "        [31, 52, 72, 88, 23],\n",
              "        [ 9, 64, 92, 60, 42]]])"
            ]
          },
          "metadata": {},
          "execution_count": 98
        }
      ]
    },
    {
      "cell_type": "code",
      "source": [
        "# Show number of axes or dimensions of the array\n",
        "array_123.ndim"
      ],
      "metadata": {
        "colab": {
          "base_uri": "https://localhost:8080/"
        },
        "id": "wYp-DtUP4_G9",
        "outputId": "6040ed42-3446-487a-91ac-6b9ed455a022"
      },
      "execution_count": null,
      "outputs": [
        {
          "output_type": "execute_result",
          "data": {
            "text/plain": [
              "3"
            ]
          },
          "metadata": {},
          "execution_count": 99
        }
      ]
    },
    {
      "cell_type": "code",
      "source": [
        "# Show total elements of the array\n",
        "array_123.size"
      ],
      "metadata": {
        "colab": {
          "base_uri": "https://localhost:8080/"
        },
        "id": "VqVT46Qf60LV",
        "outputId": "704f5c74-9820-4429-faf8-29921534e312"
      },
      "execution_count": null,
      "outputs": [
        {
          "output_type": "execute_result",
          "data": {
            "text/plain": [
              "150"
            ]
          },
          "metadata": {},
          "execution_count": 100
        }
      ]
    },
    {
      "cell_type": "code",
      "source": [
        "# Show the shape of the axes\n",
        "array_123.shape"
      ],
      "metadata": {
        "colab": {
          "base_uri": "https://localhost:8080/"
        },
        "id": "aUW0_xR-7JLa",
        "outputId": "e7dc4a96-046b-4da3-a307-ea6dc5f16bb7"
      },
      "execution_count": null,
      "outputs": [
        {
          "output_type": "execute_result",
          "data": {
            "text/plain": [
              "(5, 6, 5)"
            ]
          },
          "metadata": {},
          "execution_count": 101
        }
      ]
    },
    {
      "cell_type": "markdown",
      "source": [
        "Arrays can be reshaped used reshape() and transporse().\n",
        "Reshape() change the shape of an array while maintaining the order of the elements\n",
        "Transporse() swaps the order of columns and rows."
      ],
      "metadata": {
        "id": "Q_LvrUf_73An"
      }
    },
    {
      "cell_type": "code",
      "source": [
        "a= np.arange(12)"
      ],
      "metadata": {
        "id": "GJWBPbVS7Syb"
      },
      "execution_count": null,
      "outputs": []
    },
    {
      "cell_type": "code",
      "source": [
        "# Print the array\n",
        "a"
      ],
      "metadata": {
        "colab": {
          "base_uri": "https://localhost:8080/"
        },
        "id": "RqOG-84y8NVe",
        "outputId": "4a19e584-cab4-4ecd-d3b9-3a4f99ae7e9c"
      },
      "execution_count": null,
      "outputs": [
        {
          "output_type": "execute_result",
          "data": {
            "text/plain": [
              "array([ 0,  1,  2,  3,  4,  5,  6,  7,  8,  9, 10, 11])"
            ]
          },
          "metadata": {},
          "execution_count": 107
        }
      ]
    },
    {
      "cell_type": "code",
      "source": [
        "# Reshape the array\n",
        "a.reshape(3,4)"
      ],
      "metadata": {
        "colab": {
          "base_uri": "https://localhost:8080/"
        },
        "id": "2UYhVsI58Btt",
        "outputId": "8c35c433-bd66-4aa2-8d0e-037bdcbe785e"
      },
      "execution_count": null,
      "outputs": [
        {
          "output_type": "execute_result",
          "data": {
            "text/plain": [
              "array([[ 0,  1,  2,  3],\n",
              "       [ 4,  5,  6,  7],\n",
              "       [ 8,  9, 10, 11]])"
            ]
          },
          "metadata": {},
          "execution_count": 108
        }
      ]
    },
    {
      "cell_type": "code",
      "source": [
        "# Reshape again\n",
        "a.reshape(6,2)"
      ],
      "metadata": {
        "colab": {
          "base_uri": "https://localhost:8080/"
        },
        "id": "qyobqw5J8nsk",
        "outputId": "5b1216ca-609b-4f84-8e72-01a1f830015e"
      },
      "execution_count": null,
      "outputs": [
        {
          "output_type": "execute_result",
          "data": {
            "text/plain": [
              "array([[ 0,  1],\n",
              "       [ 2,  3],\n",
              "       [ 4,  5],\n",
              "       [ 6,  7],\n",
              "       [ 8,  9],\n",
              "       [10, 11]])"
            ]
          },
          "metadata": {},
          "execution_count": 112
        }
      ]
    },
    {
      "cell_type": "code",
      "source": [
        "#C-like order reshaping (the default order)\n",
        "# Other orders are A and F.\n",
        "np.reshape(a, newshape=(1,12), order ='C')"
      ],
      "metadata": {
        "colab": {
          "base_uri": "https://localhost:8080/"
        },
        "id": "nI4Vab7k9Hdj",
        "outputId": "7d01ae7e-e8a2-4abb-9fa2-61937f4eecec"
      },
      "execution_count": null,
      "outputs": [
        {
          "output_type": "execute_result",
          "data": {
            "text/plain": [
              "array([[ 0,  1,  2,  3,  4,  5,  6,  7,  8,  9, 10, 11]])"
            ]
          },
          "metadata": {},
          "execution_count": 115
        }
      ]
    },
    {
      "cell_type": "code",
      "source": [
        "# Swap rows and columns using transpose\n",
        "arr = np.array([[1, 2, 3],\n",
        "                [4, 5, 6]])\n",
        "arr.transpose()"
      ],
      "metadata": {
        "colab": {
          "base_uri": "https://localhost:8080/"
        },
        "id": "zaR_pduf8Gzg",
        "outputId": "e6f86548-8f95-46fa-81a2-e5d99401554f"
      },
      "execution_count": null,
      "outputs": [
        {
          "output_type": "execute_result",
          "data": {
            "text/plain": [
              "array([[1, 4],\n",
              "       [2, 5],\n",
              "       [3, 6]])"
            ]
          },
          "metadata": {},
          "execution_count": 219
        }
      ]
    },
    {
      "cell_type": "markdown",
      "source": [
        "Numpy allows reverse of arrays"
      ],
      "metadata": {
        "id": "uGxTLCiV-LN1"
      }
    },
    {
      "cell_type": "code",
      "source": [
        "arr = np.array([1, 2, 3, 4, 5, 6, 7, 8])"
      ],
      "metadata": {
        "id": "kvIPV-QZ-OFX"
      },
      "execution_count": null,
      "outputs": []
    },
    {
      "cell_type": "code",
      "source": [
        "# Print reversed array\n",
        "np.flip(arr)"
      ],
      "metadata": {
        "colab": {
          "base_uri": "https://localhost:8080/"
        },
        "id": "ICdOlrg1-UI0",
        "outputId": "f311cf62-fdcb-4cd1-8cba-658acd0080bd"
      },
      "execution_count": null,
      "outputs": [
        {
          "output_type": "execute_result",
          "data": {
            "text/plain": [
              "array([8, 7, 6, 5, 4, 3, 2, 1])"
            ]
          },
          "metadata": {},
          "execution_count": 221
        }
      ]
    },
    {
      "cell_type": "code",
      "source": [
        "arr = np.array([[2, 2, 3],\n",
        "                [5, 6, 7],\n",
        "                 [10, 11, 12]])"
      ],
      "metadata": {
        "id": "JUdO5d-rA8FC"
      },
      "execution_count": null,
      "outputs": []
    },
    {
      "cell_type": "code",
      "source": [
        "# Flip rows and columns\n",
        "np.flip(arr)"
      ],
      "metadata": {
        "colab": {
          "base_uri": "https://localhost:8080/"
        },
        "id": "gsEyF7zABJfx",
        "outputId": "b37886a3-0915-4332-b267-ce2afb0c6f47"
      },
      "execution_count": null,
      "outputs": [
        {
          "output_type": "execute_result",
          "data": {
            "text/plain": [
              "array([[12, 11, 10],\n",
              "       [ 7,  6,  5],\n",
              "       [ 3,  2,  2]])"
            ]
          },
          "metadata": {},
          "execution_count": 226
        }
      ]
    },
    {
      "cell_type": "code",
      "source": [
        "data= np.random.randint(1,20,(4,3))\n",
        "data"
      ],
      "metadata": {
        "colab": {
          "base_uri": "https://localhost:8080/"
        },
        "id": "XFGMsyN7-r45",
        "outputId": "e04fc6da-d96c-4c86-bb27-519a0d4a5985"
      },
      "execution_count": null,
      "outputs": [
        {
          "output_type": "execute_result",
          "data": {
            "text/plain": [
              "array([[ 9,  4,  6],\n",
              "       [ 1,  4,  4],\n",
              "       [ 6,  9, 16],\n",
              "       [ 8,  4,  1]])"
            ]
          },
          "metadata": {},
          "execution_count": 223
        }
      ]
    },
    {
      "cell_type": "code",
      "source": [
        "#Reverse only Rows\n",
        "np.flip(data, axis=0)"
      ],
      "metadata": {
        "colab": {
          "base_uri": "https://localhost:8080/"
        },
        "id": "wlTP60K3-9Bp",
        "outputId": "403f2d1f-bdc5-4d06-92f2-5b13f40386e3"
      },
      "execution_count": null,
      "outputs": [
        {
          "output_type": "execute_result",
          "data": {
            "text/plain": [
              "array([[ 8,  4,  1],\n",
              "       [ 6,  9, 16],\n",
              "       [ 1,  4,  4],\n",
              "       [ 9,  4,  6]])"
            ]
          },
          "metadata": {},
          "execution_count": 229
        }
      ]
    },
    {
      "cell_type": "code",
      "source": [
        "# Flatten array\n",
        "data.flatten()"
      ],
      "metadata": {
        "colab": {
          "base_uri": "https://localhost:8080/"
        },
        "id": "0lcKvpVoDS4X",
        "outputId": "797d36f1-d733-4f1b-ab2a-ec98ca25f053"
      },
      "execution_count": null,
      "outputs": [
        {
          "output_type": "execute_result",
          "data": {
            "text/plain": [
              "array([ 9,  4,  6,  1,  4,  4,  6,  9, 16,  8,  4,  1])"
            ]
          },
          "metadata": {},
          "execution_count": 234
        }
      ]
    },
    {
      "cell_type": "code",
      "source": [
        "# Create a new array using flatten\n",
        "b = data.flatten()\n",
        "b[0] = 50"
      ],
      "metadata": {
        "id": "d7A8dYxFEwvp"
      },
      "execution_count": null,
      "outputs": []
    },
    {
      "cell_type": "code",
      "source": [
        "b"
      ],
      "metadata": {
        "colab": {
          "base_uri": "https://localhost:8080/"
        },
        "id": "Re72TWzwE-_S",
        "outputId": "d640d89e-73a7-4427-d26e-8b1805906f99"
      },
      "execution_count": null,
      "outputs": [
        {
          "output_type": "execute_result",
          "data": {
            "text/plain": [
              "array([50,  4,  6,  1,  4,  4,  6,  9, 16,  8,  4,  1])"
            ]
          },
          "metadata": {},
          "execution_count": 236
        }
      ]
    },
    {
      "cell_type": "markdown",
      "source": [
        "To flatten the array and change the parent array, we use ravel()"
      ],
      "metadata": {
        "id": "0JOeAT0zFHK9"
      }
    },
    {
      "cell_type": "code",
      "source": [
        "x = data.ravel()\n",
        "x[0] = 90"
      ],
      "metadata": {
        "id": "9T_J2W7QFOGD"
      },
      "execution_count": null,
      "outputs": []
    },
    {
      "cell_type": "code",
      "source": [
        "data"
      ],
      "metadata": {
        "colab": {
          "base_uri": "https://localhost:8080/"
        },
        "id": "TWWCvrKrFeZ2",
        "outputId": "7aa6510a-5461-48f7-bda6-8c6ed7f46bd2"
      },
      "execution_count": null,
      "outputs": [
        {
          "output_type": "execute_result",
          "data": {
            "text/plain": [
              "array([[90,  4,  6],\n",
              "       [ 1,  4,  4],\n",
              "       [ 6,  9, 16],\n",
              "       [ 8,  4,  1]])"
            ]
          },
          "metadata": {},
          "execution_count": 239
        }
      ]
    },
    {
      "cell_type": "code",
      "source": [
        "x"
      ],
      "metadata": {
        "colab": {
          "base_uri": "https://localhost:8080/"
        },
        "id": "yUCKvnj6FgBl",
        "outputId": "0dcc13ed-1289-41aa-d8ce-22d2fc559362"
      },
      "execution_count": null,
      "outputs": [
        {
          "output_type": "execute_result",
          "data": {
            "text/plain": [
              "array([90,  4,  6,  1,  4,  4,  6,  9, 16,  8,  4,  1])"
            ]
          },
          "metadata": {},
          "execution_count": 240
        }
      ]
    },
    {
      "cell_type": "markdown",
      "source": [
        "NumPy allows conversion of arrays from one dimension to another"
      ],
      "metadata": {
        "id": "mBMuhr4u_3tO"
      }
    },
    {
      "cell_type": "code",
      "source": [
        "# Increase dimensions of your array by one dimension\n",
        "a = np.arange(7)"
      ],
      "metadata": {
        "id": "NtOqGF_r_-bf"
      },
      "execution_count": null,
      "outputs": []
    },
    {
      "cell_type": "code",
      "source": [
        "a\n"
      ],
      "metadata": {
        "colab": {
          "base_uri": "https://localhost:8080/"
        },
        "id": "oBeeLQU2BgE8",
        "outputId": "a171f777-079d-4be7-fc08-df4470caea16"
      },
      "execution_count": null,
      "outputs": [
        {
          "output_type": "execute_result",
          "data": {
            "text/plain": [
              "array([0, 1, 2, 3, 4, 5, 6])"
            ]
          },
          "metadata": {},
          "execution_count": 125
        }
      ]
    },
    {
      "cell_type": "code",
      "source": [
        "a.size"
      ],
      "metadata": {
        "colab": {
          "base_uri": "https://localhost:8080/"
        },
        "id": "kb9VehccBzUe",
        "outputId": "ec2e793c-6138-4b03-8d7a-307e3cba3ad4"
      },
      "execution_count": null,
      "outputs": [
        {
          "output_type": "execute_result",
          "data": {
            "text/plain": [
              "7"
            ]
          },
          "metadata": {},
          "execution_count": 126
        }
      ]
    },
    {
      "cell_type": "code",
      "source": [
        "a.shape"
      ],
      "metadata": {
        "colab": {
          "base_uri": "https://localhost:8080/"
        },
        "id": "gZdSmqNeB31D",
        "outputId": "12bfb6cb-1daf-497f-d57b-e71a5ff2d6a0"
      },
      "execution_count": null,
      "outputs": [
        {
          "output_type": "execute_result",
          "data": {
            "text/plain": [
              "(7,)"
            ]
          },
          "metadata": {},
          "execution_count": 127
        }
      ]
    },
    {
      "cell_type": "code",
      "source": [
        "# add new axis for row vector\n",
        "a_new =a[np.newaxis, :]"
      ],
      "metadata": {
        "id": "fYKrmJINCDYN"
      },
      "execution_count": null,
      "outputs": []
    },
    {
      "cell_type": "code",
      "source": [
        "a_new"
      ],
      "metadata": {
        "colab": {
          "base_uri": "https://localhost:8080/"
        },
        "id": "uhzFHapuDDTo",
        "outputId": "d9905274-fecc-49c2-cd31-a8a75557c788"
      },
      "execution_count": null,
      "outputs": [
        {
          "output_type": "execute_result",
          "data": {
            "text/plain": [
              "array([[0, 1, 2, 3, 4, 5, 6]])"
            ]
          },
          "metadata": {},
          "execution_count": 129
        }
      ]
    },
    {
      "cell_type": "code",
      "source": [
        "a_new.shape"
      ],
      "metadata": {
        "colab": {
          "base_uri": "https://localhost:8080/"
        },
        "id": "cU-EJSrhDLjX",
        "outputId": "f0ccd7de-41f1-46c7-e98e-440c18566fba"
      },
      "execution_count": null,
      "outputs": [
        {
          "output_type": "execute_result",
          "data": {
            "text/plain": [
              "(1, 7)"
            ]
          },
          "metadata": {},
          "execution_count": 130
        }
      ]
    },
    {
      "cell_type": "code",
      "source": [
        "# Add new axis for column vector\n",
        "a_new2=a[:, np.newaxis]"
      ],
      "metadata": {
        "id": "K_kTsNFADOxT"
      },
      "execution_count": null,
      "outputs": []
    },
    {
      "cell_type": "code",
      "source": [
        "a_new2"
      ],
      "metadata": {
        "colab": {
          "base_uri": "https://localhost:8080/"
        },
        "id": "DIu7WnUTE-JA",
        "outputId": "fb40c929-f703-467a-ebe6-5791cae39e46"
      },
      "execution_count": null,
      "outputs": [
        {
          "output_type": "execute_result",
          "data": {
            "text/plain": [
              "array([[0],\n",
              "       [1],\n",
              "       [2],\n",
              "       [3],\n",
              "       [4],\n",
              "       [5],\n",
              "       [6]])"
            ]
          },
          "metadata": {},
          "execution_count": 133
        }
      ]
    },
    {
      "cell_type": "code",
      "source": [
        "a_new2.shape"
      ],
      "metadata": {
        "colab": {
          "base_uri": "https://localhost:8080/"
        },
        "id": "ukAX6al6FDa7",
        "outputId": "d7602e6d-29dc-4899-d5ec-c3969da43538"
      },
      "execution_count": null,
      "outputs": [
        {
          "output_type": "execute_result",
          "data": {
            "text/plain": [
              "(7, 1)"
            ]
          },
          "metadata": {},
          "execution_count": 134
        }
      ]
    },
    {
      "cell_type": "code",
      "source": [
        "# Expand dimension to create a 2D column vector\n",
        "# Add an axis after at first one\n",
        "expanded_1d = np.expand_dims(a, axis=0)"
      ],
      "metadata": {
        "id": "WE-mRo8BGcLm"
      },
      "execution_count": null,
      "outputs": []
    },
    {
      "cell_type": "code",
      "source": [
        "expanded_1d"
      ],
      "metadata": {
        "colab": {
          "base_uri": "https://localhost:8080/"
        },
        "id": "6zmq4RWXG4z5",
        "outputId": "417d1577-4743-4cc4-8a61-cda53ec97781"
      },
      "execution_count": null,
      "outputs": [
        {
          "output_type": "execute_result",
          "data": {
            "text/plain": [
              "array([[0, 1, 2, 3, 4, 5, 6]])"
            ]
          },
          "metadata": {},
          "execution_count": 138
        }
      ]
    },
    {
      "cell_type": "code",
      "source": [
        "# Expand dimension to create a 2D column vector\n",
        "# Add an axis after the first one\n",
        "expanded_1d2 = np.expand_dims(a, axis=1)"
      ],
      "metadata": {
        "id": "oZfPvMDgHQAf"
      },
      "execution_count": null,
      "outputs": []
    },
    {
      "cell_type": "code",
      "source": [
        "expanded_1d2"
      ],
      "metadata": {
        "colab": {
          "base_uri": "https://localhost:8080/"
        },
        "id": "_THCKVnzHa2L",
        "outputId": "dd5fcdc7-25a8-4c26-9ea8-20cd437b155b"
      },
      "execution_count": null,
      "outputs": [
        {
          "output_type": "execute_result",
          "data": {
            "text/plain": [
              "array([[0],\n",
              "       [1],\n",
              "       [2],\n",
              "       [3],\n",
              "       [4],\n",
              "       [5],\n",
              "       [6]])"
            ]
          },
          "metadata": {},
          "execution_count": 145
        }
      ]
    },
    {
      "cell_type": "markdown",
      "source": [
        "Array Indexing and Slicing"
      ],
      "metadata": {
        "id": "IEcNwnnTHrSB"
      }
    },
    {
      "cell_type": "code",
      "source": [
        "data = np.random.randint(1,100,10)"
      ],
      "metadata": {
        "id": "8l2rzuRcHwmw"
      },
      "execution_count": null,
      "outputs": []
    },
    {
      "cell_type": "code",
      "source": [
        "data"
      ],
      "metadata": {
        "colab": {
          "base_uri": "https://localhost:8080/"
        },
        "id": "Fj_m4zV0IE7R",
        "outputId": "82a595d2-3114-48f1-b2b5-19901742016c"
      },
      "execution_count": null,
      "outputs": [
        {
          "output_type": "execute_result",
          "data": {
            "text/plain": [
              "array([ 1, 27,  5, 19, 39, 90, 79, 39, 20, 36])"
            ]
          },
          "metadata": {},
          "execution_count": 148
        }
      ]
    },
    {
      "cell_type": "code",
      "source": [
        "# Getting the second element\n",
        "data[1]"
      ],
      "metadata": {
        "colab": {
          "base_uri": "https://localhost:8080/"
        },
        "id": "V3cpsgA2IBBX",
        "outputId": "327834d4-9a53-4da6-f939-cebcf0f281a4"
      },
      "execution_count": null,
      "outputs": [
        {
          "output_type": "execute_result",
          "data": {
            "text/plain": [
              "27"
            ]
          },
          "metadata": {},
          "execution_count": 147
        }
      ]
    },
    {
      "cell_type": "code",
      "source": [
        "# Getting the 3rd, 4th, 5th elements\n",
        "data[2:5]"
      ],
      "metadata": {
        "colab": {
          "base_uri": "https://localhost:8080/"
        },
        "id": "4JwjFI4cII2k",
        "outputId": "ac1867c1-8701-4aac-bf60-d26003bdfad6"
      },
      "execution_count": null,
      "outputs": [
        {
          "output_type": "execute_result",
          "data": {
            "text/plain": [
              "array([ 5, 19, 39])"
            ]
          },
          "metadata": {},
          "execution_count": 150
        }
      ]
    },
    {
      "cell_type": "code",
      "source": [
        "# Getting elements from 3rd element\n",
        "data[2:]"
      ],
      "metadata": {
        "colab": {
          "base_uri": "https://localhost:8080/"
        },
        "id": "clxbwcHmIO-L",
        "outputId": "b7bfd849-f903-4212-f7bc-4ad73eabe493"
      },
      "execution_count": null,
      "outputs": [
        {
          "output_type": "execute_result",
          "data": {
            "text/plain": [
              "array([ 5, 19, 39, 90, 79, 39, 20, 36])"
            ]
          },
          "metadata": {},
          "execution_count": 151
        }
      ]
    },
    {
      "cell_type": "code",
      "source": [
        "# Extract last 5 elements\n",
        "data[-5:]"
      ],
      "metadata": {
        "colab": {
          "base_uri": "https://localhost:8080/"
        },
        "id": "TuqqjNMWJJbP",
        "outputId": "039cf05e-bf79-4929-e206-061bb226b19d"
      },
      "execution_count": null,
      "outputs": [
        {
          "output_type": "execute_result",
          "data": {
            "text/plain": [
              "array([90, 79, 39, 20, 36])"
            ]
          },
          "metadata": {},
          "execution_count": 155
        }
      ]
    },
    {
      "cell_type": "code",
      "source": [
        "# Extract 5 first elements\n",
        "data[: -5]"
      ],
      "metadata": {
        "colab": {
          "base_uri": "https://localhost:8080/"
        },
        "id": "6n07AxO0JYn6",
        "outputId": "5724be35-f9b8-4fa7-ff94-f79201a8c45a"
      },
      "execution_count": null,
      "outputs": [
        {
          "output_type": "execute_result",
          "data": {
            "text/plain": [
              "array([ 1, 27,  5, 19, 39])"
            ]
          },
          "metadata": {},
          "execution_count": 156
        }
      ]
    },
    {
      "cell_type": "markdown",
      "source": [
        "Conditional Slicing"
      ],
      "metadata": {
        "id": "WCA1zz2QJnuf"
      }
    },
    {
      "cell_type": "code",
      "source": [
        "dta = np.random.randint(1,30, (2,3,3))"
      ],
      "metadata": {
        "id": "A09DPHU7Ju7u"
      },
      "execution_count": null,
      "outputs": []
    },
    {
      "cell_type": "code",
      "source": [
        "dta"
      ],
      "metadata": {
        "colab": {
          "base_uri": "https://localhost:8080/"
        },
        "id": "VYRVi_5sK418",
        "outputId": "2ebee35c-22a3-4953-958f-43caf1e2accd"
      },
      "execution_count": null,
      "outputs": [
        {
          "output_type": "execute_result",
          "data": {
            "text/plain": [
              "array([[[18, 17, 20],\n",
              "        [22, 13, 10],\n",
              "        [ 6, 17, 26]],\n",
              "\n",
              "       [[ 5, 14,  6],\n",
              "        [ 3, 18,  8],\n",
              "        [22, 24, 26]]])"
            ]
          },
          "metadata": {},
          "execution_count": 159
        }
      ]
    },
    {
      "cell_type": "code",
      "source": [
        "# Select elements greater than 1o\n",
        "data = dta[ dta >10]"
      ],
      "metadata": {
        "id": "IJazoFETLCUm"
      },
      "execution_count": null,
      "outputs": []
    },
    {
      "cell_type": "code",
      "source": [
        "data"
      ],
      "metadata": {
        "colab": {
          "base_uri": "https://localhost:8080/"
        },
        "id": "eXwBIqwqLOkK",
        "outputId": "48cdad21-f1fb-47a6-b3ba-58dfef8d980f"
      },
      "execution_count": null,
      "outputs": [
        {
          "output_type": "execute_result",
          "data": {
            "text/plain": [
              "array([18, 17, 20, 22, 13, 17, 26, 14, 18, 22, 24, 26])"
            ]
          },
          "metadata": {},
          "execution_count": 163
        }
      ]
    },
    {
      "cell_type": "code",
      "source": [
        "# Select elements divisible by 3\n",
        "data2 = dta[ dta%2==0]"
      ],
      "metadata": {
        "id": "J4LPdbB8LlaE"
      },
      "execution_count": null,
      "outputs": []
    },
    {
      "cell_type": "code",
      "source": [
        "data2"
      ],
      "metadata": {
        "colab": {
          "base_uri": "https://localhost:8080/"
        },
        "id": "_M-ImgOQLyXV",
        "outputId": "93ee2394-b458-4525-8db8-c8c06b165261"
      },
      "execution_count": null,
      "outputs": [
        {
          "output_type": "execute_result",
          "data": {
            "text/plain": [
              "array([18, 20, 22, 10,  6, 26, 14,  6, 18,  8, 22, 24, 26])"
            ]
          },
          "metadata": {},
          "execution_count": 165
        }
      ]
    },
    {
      "cell_type": "code",
      "source": [
        "# Select elements that satisfy two conditions using or and and operators"
      ],
      "metadata": {
        "id": "7tE_Gj9-L8xC"
      },
      "execution_count": null,
      "outputs": []
    },
    {
      "cell_type": "code",
      "source": [
        "# Using and operator\n",
        "c =dta[(dta > 15) & (dta%3 ==0)]"
      ],
      "metadata": {
        "id": "OYjX9Dy7NQX3"
      },
      "execution_count": null,
      "outputs": []
    },
    {
      "cell_type": "code",
      "source": [
        "c"
      ],
      "metadata": {
        "colab": {
          "base_uri": "https://localhost:8080/"
        },
        "id": "Y7lTwtFbNzLa",
        "outputId": "105dc327-c9fc-4994-b96c-938541f6a960"
      },
      "execution_count": null,
      "outputs": [
        {
          "output_type": "execute_result",
          "data": {
            "text/plain": [
              "array([18, 18, 24])"
            ]
          },
          "metadata": {},
          "execution_count": 182
        }
      ]
    },
    {
      "cell_type": "code",
      "source": [
        "# using or operator\n",
        "d = dta[(dta > 15) | (dta == 25)]"
      ],
      "metadata": {
        "id": "PiTvZrbtN127"
      },
      "execution_count": null,
      "outputs": []
    },
    {
      "cell_type": "code",
      "source": [
        "d"
      ],
      "metadata": {
        "colab": {
          "base_uri": "https://localhost:8080/"
        },
        "id": "WxUX0I3IOL_S",
        "outputId": "bdb31278-bf76-4096-89e4-2a867f934178"
      },
      "execution_count": null,
      "outputs": [
        {
          "output_type": "execute_result",
          "data": {
            "text/plain": [
              "array([18, 17, 20, 22, 17, 26, 18, 22, 24, 26])"
            ]
          },
          "metadata": {},
          "execution_count": 178
        }
      ]
    },
    {
      "cell_type": "code",
      "source": [
        "# Multidimensional array indexing and slicing\n",
        "arry= np.random.randint(5,100,(3,3,4))"
      ],
      "metadata": {
        "id": "RALNgCZsdc6D"
      },
      "execution_count": null,
      "outputs": []
    },
    {
      "cell_type": "code",
      "source": [
        "arry"
      ],
      "metadata": {
        "colab": {
          "base_uri": "https://localhost:8080/"
        },
        "id": "C_rfuvUYfUEK",
        "outputId": "c06d4f72-41fd-48ea-ad97-7f0f159e26ec"
      },
      "execution_count": null,
      "outputs": [
        {
          "output_type": "execute_result",
          "data": {
            "text/plain": [
              "array([[[12, 85, 97, 65],\n",
              "        [56, 84, 21, 81],\n",
              "        [ 9, 44, 47,  6]],\n",
              "\n",
              "       [[24, 68, 84, 56],\n",
              "        [69, 53, 80, 44],\n",
              "        [70, 87, 57, 53]],\n",
              "\n",
              "       [[68, 85,  7, 21],\n",
              "        [91, 91, 59, 18],\n",
              "        [ 8, 65, 15, 90]]])"
            ]
          },
          "metadata": {},
          "execution_count": 185
        }
      ]
    },
    {
      "cell_type": "code",
      "source": [
        "# Getting the fourth element in the third row in second array\n",
        "arry[1,2,3]"
      ],
      "metadata": {
        "colab": {
          "base_uri": "https://localhost:8080/"
        },
        "id": "nQKGvv1ofZBA",
        "outputId": "85b7ecd1-9570-49a4-c102-dc99ee803392"
      },
      "execution_count": null,
      "outputs": [
        {
          "output_type": "execute_result",
          "data": {
            "text/plain": [
              "53"
            ]
          },
          "metadata": {},
          "execution_count": 188
        }
      ]
    },
    {
      "cell_type": "code",
      "source": [
        "# Getting the second row in the third array\n",
        "arry[2,1]"
      ],
      "metadata": {
        "colab": {
          "base_uri": "https://localhost:8080/"
        },
        "id": "w6iqBbZDgdw6",
        "outputId": "b58e01e5-edb6-4ee3-eaa6-9ec7b9152a63"
      },
      "execution_count": null,
      "outputs": [
        {
          "output_type": "execute_result",
          "data": {
            "text/plain": [
              "array([91, 91, 59, 18])"
            ]
          },
          "metadata": {},
          "execution_count": 189
        }
      ]
    },
    {
      "cell_type": "code",
      "source": [
        "# Getting the 2nd column and the first 2 rows\n",
        "arry[:, :2, 2]"
      ],
      "metadata": {
        "colab": {
          "base_uri": "https://localhost:8080/"
        },
        "id": "XJ0emiL4gSzN",
        "outputId": "0295bd8b-110f-424c-9c86-6ea7ae7e8eea"
      },
      "execution_count": null,
      "outputs": [
        {
          "output_type": "execute_result",
          "data": {
            "text/plain": [
              "array([[97, 21],\n",
              "       [84, 80],\n",
              "       [ 7, 59]])"
            ]
          },
          "metadata": {},
          "execution_count": 190
        }
      ]
    },
    {
      "cell_type": "code",
      "source": [
        "# Get the third row and all columns\n",
        "arry[2, :, :]\n"
      ],
      "metadata": {
        "colab": {
          "base_uri": "https://localhost:8080/"
        },
        "id": "jftVKxzOiikL",
        "outputId": "5ec47544-0618-44fa-fb88-f862584c4e68"
      },
      "execution_count": null,
      "outputs": [
        {
          "output_type": "execute_result",
          "data": {
            "text/plain": [
              "array([[68, 85,  7, 21],\n",
              "       [91, 91, 59, 18],\n",
              "       [ 8, 65, 15, 90]])"
            ]
          },
          "metadata": {},
          "execution_count": 191
        }
      ]
    },
    {
      "cell_type": "code",
      "source": [
        "# Get elements from the first and third layers, for the second and third columns, and from the second and third rows\n",
        "arry[[0, 2], 1:, 1:3]"
      ],
      "metadata": {
        "colab": {
          "base_uri": "https://localhost:8080/"
        },
        "id": "H8pJ3sq2jHEn",
        "outputId": "7db20e8e-4ac2-4fac-9d1c-43de03e6c3fc"
      },
      "execution_count": null,
      "outputs": [
        {
          "output_type": "execute_result",
          "data": {
            "text/plain": [
              "array([[[84, 21],\n",
              "        [44, 47]],\n",
              "\n",
              "       [[91, 59],\n",
              "        [65, 15]]])"
            ]
          },
          "metadata": {},
          "execution_count": 192
        }
      ]
    },
    {
      "cell_type": "markdown",
      "source": [
        "Stacking Arrays vertically and horizontally"
      ],
      "metadata": {
        "id": "u05pMJ7PjzPr"
      }
    },
    {
      "cell_type": "code",
      "source": [
        "a1 = np.array([[1,2,3], [3,4,5]])\n",
        "a2 = np.array([[2,3,4],[ 6,7,8]])"
      ],
      "metadata": {
        "id": "MBpfSfLLklq8"
      },
      "execution_count": null,
      "outputs": []
    },
    {
      "cell_type": "code",
      "source": [
        "# Stack Vertically (vstack)\n",
        "n= np.vstack((a1,a2))\n",
        "n"
      ],
      "metadata": {
        "colab": {
          "base_uri": "https://localhost:8080/"
        },
        "id": "IS7pzcz9la7R",
        "outputId": "d757e0a3-8e22-40fe-d80d-d2d626ca6636"
      },
      "execution_count": null,
      "outputs": [
        {
          "output_type": "execute_result",
          "data": {
            "text/plain": [
              "array([[1, 2, 3],\n",
              "       [3, 4, 5],\n",
              "       [2, 3, 4],\n",
              "       [6, 7, 8]])"
            ]
          },
          "metadata": {},
          "execution_count": 204
        }
      ]
    },
    {
      "cell_type": "code",
      "source": [
        "# Stack Horizontally (hstack)\n",
        "np.hstack((a1,a2))"
      ],
      "metadata": {
        "colab": {
          "base_uri": "https://localhost:8080/"
        },
        "id": "LNIMZ2TTlpSF",
        "outputId": "5418c394-942a-431f-da4c-ed1be3197640"
      },
      "execution_count": null,
      "outputs": [
        {
          "output_type": "execute_result",
          "data": {
            "text/plain": [
              "array([[1, 2, 3, 2, 3, 4],\n",
              "       [3, 4, 5, 6, 7, 8]])"
            ]
          },
          "metadata": {},
          "execution_count": 201
        }
      ]
    },
    {
      "cell_type": "code",
      "source": [
        "# Copy an array or Split an array\n",
        "a1.copy()"
      ],
      "metadata": {
        "colab": {
          "base_uri": "https://localhost:8080/"
        },
        "id": "ZX7L21s2mzJF",
        "outputId": "aaa0db72-985a-46f7-ca40-90ec19a3159b"
      },
      "execution_count": null,
      "outputs": [
        {
          "output_type": "execute_result",
          "data": {
            "text/plain": [
              "array([[1, 2, 3],\n",
              "       [3, 4, 5]])"
            ]
          },
          "metadata": {},
          "execution_count": 203
        }
      ]
    },
    {
      "cell_type": "code",
      "source": [
        "# Split into multiple arrays\n",
        "np.hsplit(n,(2,6))"
      ],
      "metadata": {
        "colab": {
          "base_uri": "https://localhost:8080/"
        },
        "id": "4go-tZxknE0G",
        "outputId": "dafc8004-8392-4bf0-c5d2-bd317b1fdf33"
      },
      "execution_count": null,
      "outputs": [
        {
          "output_type": "execute_result",
          "data": {
            "text/plain": [
              "[array([[1, 2],\n",
              "        [3, 4],\n",
              "        [2, 3],\n",
              "        [6, 7]]),\n",
              " array([[3],\n",
              "        [5],\n",
              "        [4],\n",
              "        [8]]),\n",
              " array([], shape=(4, 0), dtype=int64)]"
            ]
          },
          "metadata": {},
          "execution_count": 208
        }
      ]
    },
    {
      "cell_type": "code",
      "source": [
        "# Adding arrays\n",
        "a1+a2"
      ],
      "metadata": {
        "colab": {
          "base_uri": "https://localhost:8080/"
        },
        "id": "nhLdCSi9n28P",
        "outputId": "5f4504bb-48e1-435a-c67c-9d6e27ddd886"
      },
      "execution_count": null,
      "outputs": [
        {
          "output_type": "execute_result",
          "data": {
            "text/plain": [
              "array([[ 3,  5,  7],\n",
              "       [ 9, 11, 13]])"
            ]
          },
          "metadata": {},
          "execution_count": 209
        }
      ]
    },
    {
      "cell_type": "code",
      "source": [
        "# Multiplying arrays\n",
        "a1*a2"
      ],
      "metadata": {
        "colab": {
          "base_uri": "https://localhost:8080/"
        },
        "id": "qbSonJrFoD4w",
        "outputId": "d3101eb5-fab9-404b-9874-0a0c94b78c64"
      },
      "execution_count": null,
      "outputs": [
        {
          "output_type": "execute_result",
          "data": {
            "text/plain": [
              "array([[ 2,  6, 12],\n",
              "       [18, 28, 40]])"
            ]
          },
          "metadata": {},
          "execution_count": 210
        }
      ]
    },
    {
      "cell_type": "code",
      "source": [
        "# Dividing arrays\n",
        "a1/a2"
      ],
      "metadata": {
        "colab": {
          "base_uri": "https://localhost:8080/"
        },
        "id": "HjIrrN1uoMcP",
        "outputId": "76ce349a-a80b-4336-f12c-6a9de56c9bab"
      },
      "execution_count": null,
      "outputs": [
        {
          "output_type": "execute_result",
          "data": {
            "text/plain": [
              "array([[0.5       , 0.66666667, 0.75      ],\n",
              "       [0.5       , 0.57142857, 0.625     ]])"
            ]
          },
          "metadata": {},
          "execution_count": 211
        }
      ]
    },
    {
      "cell_type": "code",
      "source": [
        "# Subtracting arrays\n",
        "a1 - a2"
      ],
      "metadata": {
        "colab": {
          "base_uri": "https://localhost:8080/"
        },
        "id": "4-9aSNuIoXWu",
        "outputId": "8e99da85-f058-46c3-879b-11c9daf9b3c2"
      },
      "execution_count": null,
      "outputs": [
        {
          "output_type": "execute_result",
          "data": {
            "text/plain": [
              "array([[-1, -1, -1],\n",
              "       [-3, -3, -3]])"
            ]
          },
          "metadata": {},
          "execution_count": 212
        }
      ]
    },
    {
      "cell_type": "code",
      "source": [
        "# Get sum . Other useful operations you can try are min() and max())\n",
        "a1.sum() + a2.sum()"
      ],
      "metadata": {
        "colab": {
          "base_uri": "https://localhost:8080/"
        },
        "id": "HNXBSweWok86",
        "outputId": "c104d727-10fc-458a-9d28-21c5304b55af"
      },
      "execution_count": null,
      "outputs": [
        {
          "output_type": "execute_result",
          "data": {
            "text/plain": [
              "48"
            ]
          },
          "metadata": {},
          "execution_count": 214
        }
      ]
    },
    {
      "cell_type": "code",
      "source": [
        "# Sum over axis of columns\n",
        "a1.sum(axis=1)"
      ],
      "metadata": {
        "colab": {
          "base_uri": "https://localhost:8080/"
        },
        "id": "fcn4Yxkiowr3",
        "outputId": "12dda44d-b564-43af-c69b-713d4f93f7cd"
      },
      "execution_count": null,
      "outputs": [
        {
          "output_type": "execute_result",
          "data": {
            "text/plain": [
              "array([ 6, 12])"
            ]
          },
          "metadata": {},
          "execution_count": 216
        }
      ]
    },
    {
      "cell_type": "code",
      "source": [
        "# Sum over axis of rows\n",
        "a1.sum(axis=0)"
      ],
      "metadata": {
        "colab": {
          "base_uri": "https://localhost:8080/"
        },
        "id": "0sIrdNOWo5UM",
        "outputId": "e60da1d7-ab17-49f4-a4f1-f50599de476d"
      },
      "execution_count": null,
      "outputs": [
        {
          "output_type": "execute_result",
          "data": {
            "text/plain": [
              "array([4, 6, 8])"
            ]
          },
          "metadata": {},
          "execution_count": 217
        }
      ]
    },
    {
      "cell_type": "code",
      "source": [
        "# Creating meaning ones array\n",
        "np.ones((4, 3, 2))"
      ],
      "metadata": {
        "colab": {
          "base_uri": "https://localhost:8080/"
        },
        "id": "C4UVO4NKpe4C",
        "outputId": "f8eeb95a-1a29-48f9-b1f7-3769b642bcaf"
      },
      "execution_count": null,
      "outputs": [
        {
          "output_type": "execute_result",
          "data": {
            "text/plain": [
              "array([[[1., 1.],\n",
              "        [1., 1.],\n",
              "        [1., 1.]],\n",
              "\n",
              "       [[1., 1.],\n",
              "        [1., 1.],\n",
              "        [1., 1.]],\n",
              "\n",
              "       [[1., 1.],\n",
              "        [1., 1.],\n",
              "        [1., 1.]],\n",
              "\n",
              "       [[1., 1.],\n",
              "        [1., 1.],\n",
              "        [1., 1.]]])"
            ]
          },
          "metadata": {},
          "execution_count": 218
        }
      ]
    },
    {
      "cell_type": "markdown",
      "source": [
        "You can Load and Save objects in Numpy"
      ],
      "metadata": {
        "id": "YjmBqqKOG8et"
      }
    },
    {
      "cell_type": "code",
      "source": [
        "# Save Objects\n",
        "# To save an array, specifify the arrary you want to save and the file name\n",
        "np.save('filename', 'array')\n",
        "\n"
      ],
      "metadata": {
        "id": "VK3HNtlWHQ4d"
      },
      "execution_count": null,
      "outputs": []
    },
    {
      "cell_type": "code",
      "source": [
        "# Save an array as .csv\n",
        "arr = np.array([8,1,2,5,6,7,9])\n",
        "np.savetxt('new_file.csv', arr)"
      ],
      "metadata": {
        "id": "5fD1tObcIVmI"
      },
      "execution_count": null,
      "outputs": []
    },
    {
      "cell_type": "code",
      "source": [
        "# Load the array\n",
        "np.load('filename.npy')"
      ],
      "metadata": {
        "colab": {
          "base_uri": "https://localhost:8080/"
        },
        "id": "89LPQNPwHuFR",
        "outputId": "9817ce50-3b28-4e0d-aac6-0938546d8703"
      },
      "execution_count": null,
      "outputs": [
        {
          "output_type": "execute_result",
          "data": {
            "text/plain": [
              "array('array', dtype='<U5')"
            ]
          },
          "metadata": {},
          "execution_count": 242
        }
      ]
    },
    {
      "cell_type": "markdown",
      "source": [
        "Use pd.read_csv() to import files in NumPy.\n",
        "If all colums are the same you simply assign a variable name similar to the file you want to read. Then use pd.read_cvs following by (file path, header=0).values\n",
        "\n",
        "You can also simply select columns you need by simply passing them in a list.e.g. you can end the pd.read_cvs with this(usecols=['Song', 'Genre']).values)"
      ],
      "metadata": {
        "id": "OwS2poZYJpSC"
      }
    },
    {
      "cell_type": "code",
      "source": [
        "# Change an array into a DataFrame\n",
        "arry = np.random.randint(2, 50, (3, 4))\n",
        "arry"
      ],
      "metadata": {
        "colab": {
          "base_uri": "https://localhost:8080/"
        },
        "id": "hEjcKXfDKnzz",
        "outputId": "60cc74fb-1bfb-46fd-e3e6-a5d6f2a4bc35"
      },
      "execution_count": null,
      "outputs": [
        {
          "output_type": "execute_result",
          "data": {
            "text/plain": [
              "array([[24, 45, 35, 25],\n",
              "       [45, 39, 39, 41],\n",
              "       [29, 21, 40,  2]])"
            ]
          },
          "metadata": {},
          "execution_count": 251
        }
      ]
    },
    {
      "cell_type": "code",
      "source": [
        "# Create a Data Frame\n",
        "pd.DataFrame(arry)"
      ],
      "metadata": {
        "colab": {
          "base_uri": "https://localhost:8080/",
          "height": 143
        },
        "id": "Iv_cVrIRLgvi",
        "outputId": "f5c30203-29dd-458f-ea73-1c4de126a6d0"
      },
      "execution_count": null,
      "outputs": [
        {
          "output_type": "execute_result",
          "data": {
            "text/plain": [
              "    0   1   2   3\n",
              "0  24  45  35  25\n",
              "1  45  39  39  41\n",
              "2  29  21  40   2"
            ],
            "text/html": [
              "\n",
              "  <div id=\"df-554c86a7-2149-4bcb-af87-f318b588953f\" class=\"colab-df-container\">\n",
              "    <div>\n",
              "<style scoped>\n",
              "    .dataframe tbody tr th:only-of-type {\n",
              "        vertical-align: middle;\n",
              "    }\n",
              "\n",
              "    .dataframe tbody tr th {\n",
              "        vertical-align: top;\n",
              "    }\n",
              "\n",
              "    .dataframe thead th {\n",
              "        text-align: right;\n",
              "    }\n",
              "</style>\n",
              "<table border=\"1\" class=\"dataframe\">\n",
              "  <thead>\n",
              "    <tr style=\"text-align: right;\">\n",
              "      <th></th>\n",
              "      <th>0</th>\n",
              "      <th>1</th>\n",
              "      <th>2</th>\n",
              "      <th>3</th>\n",
              "    </tr>\n",
              "  </thead>\n",
              "  <tbody>\n",
              "    <tr>\n",
              "      <th>0</th>\n",
              "      <td>24</td>\n",
              "      <td>45</td>\n",
              "      <td>35</td>\n",
              "      <td>25</td>\n",
              "    </tr>\n",
              "    <tr>\n",
              "      <th>1</th>\n",
              "      <td>45</td>\n",
              "      <td>39</td>\n",
              "      <td>39</td>\n",
              "      <td>41</td>\n",
              "    </tr>\n",
              "    <tr>\n",
              "      <th>2</th>\n",
              "      <td>29</td>\n",
              "      <td>21</td>\n",
              "      <td>40</td>\n",
              "      <td>2</td>\n",
              "    </tr>\n",
              "  </tbody>\n",
              "</table>\n",
              "</div>\n",
              "    <div class=\"colab-df-buttons\">\n",
              "\n",
              "  <div class=\"colab-df-container\">\n",
              "    <button class=\"colab-df-convert\" onclick=\"convertToInteractive('df-554c86a7-2149-4bcb-af87-f318b588953f')\"\n",
              "            title=\"Convert this dataframe to an interactive table.\"\n",
              "            style=\"display:none;\">\n",
              "\n",
              "  <svg xmlns=\"http://www.w3.org/2000/svg\" height=\"24px\" viewBox=\"0 -960 960 960\">\n",
              "    <path d=\"M120-120v-720h720v720H120Zm60-500h600v-160H180v160Zm220 220h160v-160H400v160Zm0 220h160v-160H400v160ZM180-400h160v-160H180v160Zm440 0h160v-160H620v160ZM180-180h160v-160H180v160Zm440 0h160v-160H620v160Z\"/>\n",
              "  </svg>\n",
              "    </button>\n",
              "\n",
              "  <style>\n",
              "    .colab-df-container {\n",
              "      display:flex;\n",
              "      gap: 12px;\n",
              "    }\n",
              "\n",
              "    .colab-df-convert {\n",
              "      background-color: #E8F0FE;\n",
              "      border: none;\n",
              "      border-radius: 50%;\n",
              "      cursor: pointer;\n",
              "      display: none;\n",
              "      fill: #1967D2;\n",
              "      height: 32px;\n",
              "      padding: 0 0 0 0;\n",
              "      width: 32px;\n",
              "    }\n",
              "\n",
              "    .colab-df-convert:hover {\n",
              "      background-color: #E2EBFA;\n",
              "      box-shadow: 0px 1px 2px rgba(60, 64, 67, 0.3), 0px 1px 3px 1px rgba(60, 64, 67, 0.15);\n",
              "      fill: #174EA6;\n",
              "    }\n",
              "\n",
              "    .colab-df-buttons div {\n",
              "      margin-bottom: 4px;\n",
              "    }\n",
              "\n",
              "    [theme=dark] .colab-df-convert {\n",
              "      background-color: #3B4455;\n",
              "      fill: #D2E3FC;\n",
              "    }\n",
              "\n",
              "    [theme=dark] .colab-df-convert:hover {\n",
              "      background-color: #434B5C;\n",
              "      box-shadow: 0px 1px 3px 1px rgba(0, 0, 0, 0.15);\n",
              "      filter: drop-shadow(0px 1px 2px rgba(0, 0, 0, 0.3));\n",
              "      fill: #FFFFFF;\n",
              "    }\n",
              "  </style>\n",
              "\n",
              "    <script>\n",
              "      const buttonEl =\n",
              "        document.querySelector('#df-554c86a7-2149-4bcb-af87-f318b588953f button.colab-df-convert');\n",
              "      buttonEl.style.display =\n",
              "        google.colab.kernel.accessAllowed ? 'block' : 'none';\n",
              "\n",
              "      async function convertToInteractive(key) {\n",
              "        const element = document.querySelector('#df-554c86a7-2149-4bcb-af87-f318b588953f');\n",
              "        const dataTable =\n",
              "          await google.colab.kernel.invokeFunction('convertToInteractive',\n",
              "                                                    [key], {});\n",
              "        if (!dataTable) return;\n",
              "\n",
              "        const docLinkHtml = 'Like what you see? Visit the ' +\n",
              "          '<a target=\"_blank\" href=https://colab.research.google.com/notebooks/data_table.ipynb>data table notebook</a>'\n",
              "          + ' to learn more about interactive tables.';\n",
              "        element.innerHTML = '';\n",
              "        dataTable['output_type'] = 'display_data';\n",
              "        await google.colab.output.renderOutput(dataTable, element);\n",
              "        const docLink = document.createElement('div');\n",
              "        docLink.innerHTML = docLinkHtml;\n",
              "        element.appendChild(docLink);\n",
              "      }\n",
              "    </script>\n",
              "  </div>\n",
              "\n",
              "\n",
              "<div id=\"df-0e7b27bc-979f-449a-966f-39a1774b781b\">\n",
              "  <button class=\"colab-df-quickchart\" onclick=\"quickchart('df-0e7b27bc-979f-449a-966f-39a1774b781b')\"\n",
              "            title=\"Suggest charts\"\n",
              "            style=\"display:none;\">\n",
              "\n",
              "<svg xmlns=\"http://www.w3.org/2000/svg\" height=\"24px\"viewBox=\"0 0 24 24\"\n",
              "     width=\"24px\">\n",
              "    <g>\n",
              "        <path d=\"M19 3H5c-1.1 0-2 .9-2 2v14c0 1.1.9 2 2 2h14c1.1 0 2-.9 2-2V5c0-1.1-.9-2-2-2zM9 17H7v-7h2v7zm4 0h-2V7h2v10zm4 0h-2v-4h2v4z\"/>\n",
              "    </g>\n",
              "</svg>\n",
              "  </button>\n",
              "\n",
              "<style>\n",
              "  .colab-df-quickchart {\n",
              "      --bg-color: #E8F0FE;\n",
              "      --fill-color: #1967D2;\n",
              "      --hover-bg-color: #E2EBFA;\n",
              "      --hover-fill-color: #174EA6;\n",
              "      --disabled-fill-color: #AAA;\n",
              "      --disabled-bg-color: #DDD;\n",
              "  }\n",
              "\n",
              "  [theme=dark] .colab-df-quickchart {\n",
              "      --bg-color: #3B4455;\n",
              "      --fill-color: #D2E3FC;\n",
              "      --hover-bg-color: #434B5C;\n",
              "      --hover-fill-color: #FFFFFF;\n",
              "      --disabled-bg-color: #3B4455;\n",
              "      --disabled-fill-color: #666;\n",
              "  }\n",
              "\n",
              "  .colab-df-quickchart {\n",
              "    background-color: var(--bg-color);\n",
              "    border: none;\n",
              "    border-radius: 50%;\n",
              "    cursor: pointer;\n",
              "    display: none;\n",
              "    fill: var(--fill-color);\n",
              "    height: 32px;\n",
              "    padding: 0;\n",
              "    width: 32px;\n",
              "  }\n",
              "\n",
              "  .colab-df-quickchart:hover {\n",
              "    background-color: var(--hover-bg-color);\n",
              "    box-shadow: 0 1px 2px rgba(60, 64, 67, 0.3), 0 1px 3px 1px rgba(60, 64, 67, 0.15);\n",
              "    fill: var(--button-hover-fill-color);\n",
              "  }\n",
              "\n",
              "  .colab-df-quickchart-complete:disabled,\n",
              "  .colab-df-quickchart-complete:disabled:hover {\n",
              "    background-color: var(--disabled-bg-color);\n",
              "    fill: var(--disabled-fill-color);\n",
              "    box-shadow: none;\n",
              "  }\n",
              "\n",
              "  .colab-df-spinner {\n",
              "    border: 2px solid var(--fill-color);\n",
              "    border-color: transparent;\n",
              "    border-bottom-color: var(--fill-color);\n",
              "    animation:\n",
              "      spin 1s steps(1) infinite;\n",
              "  }\n",
              "\n",
              "  @keyframes spin {\n",
              "    0% {\n",
              "      border-color: transparent;\n",
              "      border-bottom-color: var(--fill-color);\n",
              "      border-left-color: var(--fill-color);\n",
              "    }\n",
              "    20% {\n",
              "      border-color: transparent;\n",
              "      border-left-color: var(--fill-color);\n",
              "      border-top-color: var(--fill-color);\n",
              "    }\n",
              "    30% {\n",
              "      border-color: transparent;\n",
              "      border-left-color: var(--fill-color);\n",
              "      border-top-color: var(--fill-color);\n",
              "      border-right-color: var(--fill-color);\n",
              "    }\n",
              "    40% {\n",
              "      border-color: transparent;\n",
              "      border-right-color: var(--fill-color);\n",
              "      border-top-color: var(--fill-color);\n",
              "    }\n",
              "    60% {\n",
              "      border-color: transparent;\n",
              "      border-right-color: var(--fill-color);\n",
              "    }\n",
              "    80% {\n",
              "      border-color: transparent;\n",
              "      border-right-color: var(--fill-color);\n",
              "      border-bottom-color: var(--fill-color);\n",
              "    }\n",
              "    90% {\n",
              "      border-color: transparent;\n",
              "      border-bottom-color: var(--fill-color);\n",
              "    }\n",
              "  }\n",
              "</style>\n",
              "\n",
              "  <script>\n",
              "    async function quickchart(key) {\n",
              "      const quickchartButtonEl =\n",
              "        document.querySelector('#' + key + ' button');\n",
              "      quickchartButtonEl.disabled = true;  // To prevent multiple clicks.\n",
              "      quickchartButtonEl.classList.add('colab-df-spinner');\n",
              "      try {\n",
              "        const charts = await google.colab.kernel.invokeFunction(\n",
              "            'suggestCharts', [key], {});\n",
              "      } catch (error) {\n",
              "        console.error('Error during call to suggestCharts:', error);\n",
              "      }\n",
              "      quickchartButtonEl.classList.remove('colab-df-spinner');\n",
              "      quickchartButtonEl.classList.add('colab-df-quickchart-complete');\n",
              "    }\n",
              "    (() => {\n",
              "      let quickchartButtonEl =\n",
              "        document.querySelector('#df-0e7b27bc-979f-449a-966f-39a1774b781b button');\n",
              "      quickchartButtonEl.style.display =\n",
              "        google.colab.kernel.accessAllowed ? 'block' : 'none';\n",
              "    })();\n",
              "  </script>\n",
              "</div>\n",
              "\n",
              "    </div>\n",
              "  </div>\n"
            ]
          },
          "metadata": {},
          "execution_count": 252
        }
      ]
    },
    {
      "cell_type": "markdown",
      "source": [
        "Plotting Arrays using Matplotlib"
      ],
      "metadata": {
        "id": "A96CteixMN-E"
      }
    },
    {
      "cell_type": "code",
      "source": [
        "a = np.random.randint(1,100,15)"
      ],
      "metadata": {
        "id": "iLRHUwcBMlAm"
      },
      "execution_count": null,
      "outputs": []
    },
    {
      "cell_type": "code",
      "source": [
        "a"
      ],
      "metadata": {
        "colab": {
          "base_uri": "https://localhost:8080/"
        },
        "id": "JgL7NDwSMuwd",
        "outputId": "4c049a03-5a88-490d-d998-ad55265c2be8"
      },
      "execution_count": null,
      "outputs": [
        {
          "output_type": "execute_result",
          "data": {
            "text/plain": [
              "array([55, 13,  3, 84, 44, 96, 24, 51, 39, 88, 27, 22, 25, 63,  5])"
            ]
          },
          "metadata": {},
          "execution_count": 255
        }
      ]
    },
    {
      "cell_type": "code",
      "source": [
        "# Plotting the array\n",
        "plt.plot(a)"
      ],
      "metadata": {
        "colab": {
          "base_uri": "https://localhost:8080/",
          "height": 451
        },
        "id": "RKEfw8GuMyJo",
        "outputId": "dc3bf6cc-826c-408c-a240-eff15cd7df73"
      },
      "execution_count": null,
      "outputs": [
        {
          "output_type": "execute_result",
          "data": {
            "text/plain": [
              "[<matplotlib.lines.Line2D at 0x7c7f2827dde0>]"
            ]
          },
          "metadata": {},
          "execution_count": 256
        },
        {
          "output_type": "display_data",
          "data": {
            "text/plain": [
              "<Figure size 640x480 with 1 Axes>"
            ],
            "image/png": "[encoded data removed]"
          },
          "metadata": {}
        }
      ]
    },
    {
      "cell_type": "code",
      "source": [
        "# Create another plot\n",
        "import numpy as np\n",
        "b = np.linspace(0, 2, 8)\n",
        "c = np.linspace(0, 4, 8)\n",
        "\n",
        "plt.plot(b, c, 'green')\n",
        "plt.plot(b,c, 'x')"
      ],
      "metadata": {
        "colab": {
          "base_uri": "https://localhost:8080/",
          "height": 430
        },
        "id": "ybXKmif4NKAX",
        "outputId": "226c9177-ac0d-4158-b452-abbdc8c8e9c0"
      },
      "execution_count": null,
      "outputs": [
        {
          "output_type": "display_data",
          "data": {
            "text/plain": [
              "<Figure size 640x480 with 1 Axes>"
            ],
            "image/png": "[encoded data removed]"
          },
          "metadata": {}
        }
      ]
    }
  ]
}